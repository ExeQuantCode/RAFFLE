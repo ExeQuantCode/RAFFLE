{
 "cells": [
  {
   "cell_type": "code",
   "execution_count": 152,
   "metadata": {},
   "outputs": [],
   "source": [
    "import matplotlib.pyplot as plt\n",
    "%matplotlib inline\n",
    "\n",
    "# matplotlib.use(\"Agg\")\n",
    "\n",
    "from ase.visualize import view\n",
    "\n",
    "from ase.io import read\n",
    "from agox.databases import Database\n",
    "from agox.environments import Environment\n",
    "from agox.utils.graph_sorting import Analysis\n",
    "\n",
    "import glob\n",
    "import numpy as np\n",
    "from sklearn.decomposition import PCA"
   ]
  },
  {
   "cell_type": "code",
   "execution_count": 153,
   "metadata": {},
   "outputs": [],
   "source": [
    "## Set up the plotting environment\n",
    "# matplotlib.rcParams.update(matplotlib.rcParamsDefault)\n",
    "plt.rc('text', usetex=True)\n",
    "plt.rc('font', family='cmr10', size=12)\n",
    "plt.rcParams[\"axes.formatter.use_mathtext\"] = True"
   ]
  },
  {
   "cell_type": "code",
   "execution_count": 154,
   "metadata": {},
   "outputs": [],
   "source": [
    "## Set the plotting parameters\n",
    "seed = 0\n",
    "identifier = \"\""
   ]
  },
  {
   "cell_type": "code",
   "execution_count": 155,
   "metadata": {},
   "outputs": [],
   "source": [
    "## Set the descriptors\n",
    "from agox.models.descriptors import SOAP\n",
    "local_descriptor = local_descriptor = SOAP.from_species([\"Al\"], r_cut=5.0)"
   ]
  },
  {
   "cell_type": "code",
   "execution_count": 156,
   "metadata": {},
   "outputs": [
    {
     "name": "stdout",
     "output_type": "stream",
     "text": [
      "CHGNet v0.3.0 initialized with 412,525 parameters\n",
      "CHGNet will run on cpu\n"
     ]
    }
   ],
   "source": [
    "## Set the calculators\n",
    "from chgnet.model import CHGNetCalculator\n",
    "from ase.calculators.singlepoint import SinglePointCalculator\n",
    "calc = CHGNetCalculator()"
   ]
  },
  {
   "cell_type": "code",
   "execution_count": 157,
   "metadata": {},
   "outputs": [
    {
     "name": "stdout",
     "output_type": "stream",
     "text": [
      "Skipping  known_phases/mp-134-2.vasp\n",
      "Skipping  known_phases/mp-998860-2.vasp\n",
      "Skipping  known_phases/mp-1183144-2.vasp\n",
      "Skipping  known_phases/mp-2647008-2.vasp\n"
     ]
    }
   ],
   "source": [
    "## Load known structures\n",
    "poscar_files = glob.glob(\"known_phases/*.vasp\")\n",
    "known_phases = []\n",
    "opacity_list = []\n",
    "known_phase_labels = []\n",
    "for poscar_file in poscar_files:\n",
    "  phase = read(poscar_file)\n",
    "  opacity = None\n",
    "  if \"mp-134.vasp\" in poscar_file:\n",
    "    print(\"FCC\")\n",
    "    cell = phase.get_cell()\n",
    "    cell = [ vec * 4.02 / np.linalg.norm(vec) for vec in cell]\n",
    "    phase.set_cell(cell, scale_atoms=True)\n",
    "    opacity = 1.0\n",
    "    label = \"FCC (mp-134)\"\n",
    "  elif \"mp-2647008.vasp\" in poscar_file:\n",
    "    print(\"HCP\")\n",
    "    cell = phase.get_cell()\n",
    "    cell = [ vec * 3.56 / np.linalg.norm(vec) for vec in cell]\n",
    "    phase.set_cell(cell, scale_atoms=True)\n",
    "    opacity = 0.6\n",
    "    label = \"HCP (mp-2647008)\"\n",
    "  elif \"mp-998860.vasp\" in poscar_file:\n",
    "    print(\"BCC\")\n",
    "    cell = phase.get_cell()\n",
    "    cell = [ vec * 3.10 / np.linalg.norm(vec) for vec in cell]\n",
    "    phase.set_cell(cell, scale_atoms=True)\n",
    "    opacity = 0.4\n",
    "    label = \"BCC (mp-998860)\"\n",
    "  elif \"mp-1183144.vasp\" in poscar_file:\n",
    "    print(\"$\\\\alpha$\")\n",
    "    cell = phase.get_cell()\n",
    "    # cell[0] = [ vec * 4.94 / np.linalg.norm(vec) for vec in cell]\n",
    "    # cell[1] = [ vec * 4.94 / np.linalg.norm(vec) for vec in cell]\n",
    "    cell[2] = cell[2] * 9.88 / np.linalg.norm(cell[2])\n",
    "    phase.set_cell(cell, scale_atoms=True)\n",
    "    opacity = 0.7\n",
    "    label = \"$\\\\alpha$ (mp-1183144)\"\n",
    "  else:\n",
    "    print(\"Skipping \", poscar_file)\n",
    "    continue\n",
    "  opacity_list.append(opacity)\n",
    "  known_phase_labels.append(label)\n",
    "  phase.calc = calc\n",
    "  known_phases.append(phase)"
   ]
  },
  {
   "cell_type": "code",
   "execution_count": 158,
   "metadata": {},
   "outputs": [],
   "source": [
    "## Load the unrelaxed structures\n",
    "# /home/fhd205/DProjects/DGIT/RAFFLE/DTMP\n",
    "method = \"v0_r1_w0_g0_m0\"\n",
    "unrlxd_structures = read(\"../../../DTMP_\"+method+\"/unrlxd_structures_seed\"+str(seed)+\".traj\", index=\":\")\n",
    "for structure in unrlxd_structures:\n",
    "  structure.calc = calc\n",
    "  "
   ]
  },
  {
   "cell_type": "code",
   "execution_count": 159,
   "metadata": {},
   "outputs": [],
   "source": [
    "# ## Load the unrelaxed structures\n",
    "# # /home/fhd205/DProjects/DGIT/RAFFLE/DTMP\n",
    "# method = \"v0_r0_w0_g0_m0\"\n",
    "# unrlxd_structures = read(\"../../../DTMP_\"+method+\"/unrlxd_structures_seed\"+str(seed)+\".traj\", index=\":\")\n",
    "# for structure in unrlxd_structures:\n",
    "#  structure.calc = calc"
   ]
  },
  {
   "cell_type": "code",
   "execution_count": 160,
   "metadata": {},
   "outputs": [],
   "source": [
    "## Load the unrelaxed structures\n",
    "# /home/fhd205/DProjects/DGIT/RAFFLE/DTMP\n",
    "# method = \"v0_r0_w0_g0_m0\"\n",
    "# unrlxd_structures = read(\"../../../DTMP_\"+method+\"/unrlxd_structures_seed\"+str(seed)+\".traj\", index=\":\")\n",
    "# for structure in unrlxd_structures:\n",
    "#   structure.calc = calc"
   ]
  },
  {
   "cell_type": "code",
   "execution_count": 161,
   "metadata": {},
   "outputs": [],
   "source": [
    "# ## Load the unrelaxed structures\n",
    "# # /home/fhd205/DProjects/DGIT/RAFFLE/DTMP\n",
    "# method = \"v0_r0_w0_g0_m0\"\n",
    "# unrlxd_structures = read(\"../../../DTMP_\"+method+\"/unrlxd_structures_seed\"+str(seed)+\".traj\", index=\":\")\n",
    "# for structure in unrlxd_structures:\n",
    "#   structure.calc = calc"
   ]
  },
  {
   "cell_type": "code",
   "execution_count": 162,
   "metadata": {},
   "outputs": [],
   "source": [
    "## Load the relaxed structures\n",
    "rlxd_structures = read(\"../../../DTMP_\"+method+\"/rlxd_structures_seed\"+str(seed)+\".traj\", index=\":\")\n",
    "for structure in rlxd_structures:\n",
    "  structure.calc = calc"
   ]
  },
  {
   "cell_type": "code",
   "execution_count": 163,
   "metadata": {},
   "outputs": [],
   "source": [
    "## Read energies from energies_unrlxd_seed0.txt and add to the respective structures using a SinglePointCalculator\n",
    "## The file has the form \"index energy\"\n",
    "## This is done because there seem to be issues with storing the energy in the ASE trajectory file for some setups\n",
    "filename = \"../../../DTMP_\"+method+\"/energies_unrlxd_seed\"+str(seed)+\".txt\"\n",
    "with open(filename) as f:\n",
    "    for line in f:\n",
    "        index, energy = line.split()\n",
    "        index = int(index)\n",
    "        energy = float(energy)\n",
    "        unrlxd_structures[index].calc = SinglePointCalculator(unrlxd_structures[index], energy=energy * len(unrlxd_structures[index]))\n",
    "\n",
    "\n",
    "filename = \"../../../DTMP_\"+method+\"/energies_rlxd_seed\"+str(seed)+\".txt\"\n",
    "with open(filename) as f:\n",
    "    for line in f:\n",
    "        index, energy = line.split()\n",
    "        index = int(index)\n",
    "        energy = float(energy)\n",
    "        rlxd_structures[index].calc = SinglePointCalculator(rlxd_structures[index], energy=energy * len(rlxd_structures[index]))"
   ]
  },
  {
   "cell_type": "code",
   "execution_count": 164,
   "metadata": {},
   "outputs": [],
   "source": [
    "## Get the minimum energy\n",
    "min_energy = np.min([structure.get_potential_energy()/len(structure) for structure in rlxd_structures])"
   ]
  },
  {
   "cell_type": "code",
   "execution_count": 165,
   "metadata": {},
   "outputs": [
    {
     "name": "stdout",
     "output_type": "stream",
     "text": [
      "Unrelaxed min energy:  -3.388016700744629\n"
     ]
    }
   ],
   "source": [
    "## Calculate energies per atom for each unrelaxed structure\n",
    "energies_per_atom = [structure.get_potential_energy() / len(structure) for structure in unrlxd_structures]\n",
    "unrlxd_delta_en_per_atom = np.array(energies_per_atom) - min_energy\n",
    "print(\"Unrelaxed min energy: \", np.min(energies_per_atom))"
   ]
  },
  {
   "cell_type": "code",
   "execution_count": 166,
   "metadata": {},
   "outputs": [
    {
     "name": "stdout",
     "output_type": "stream",
     "text": [
      "Relaxed min energy:  -3.6634302139282227\n"
     ]
    }
   ],
   "source": [
    "## Calculate energies per atom for each relaxed structure\n",
    "energies_per_atom = [structure.get_potential_energy() / len(structure) for structure in rlxd_structures]\n",
    "rlxd_delta_en_per_atom = np.array(energies_per_atom) - min_energy\n",
    "print(\"Relaxed min energy: \", np.min(energies_per_atom))"
   ]
  },
  {
   "cell_type": "code",
   "execution_count": 167,
   "metadata": {},
   "outputs": [],
   "source": [
    "## Set up the PCA\n",
    "pca = PCA(n_components=2)"
   ]
  },
  {
   "cell_type": "code",
   "execution_count": 168,
   "metadata": {},
   "outputs": [],
   "source": [
    "## Get the 'super atom' descriptors for the unrelaxed structures\n",
    "unrlxd_super_atoms = []\n",
    "for structure in unrlxd_structures:\n",
    "  unrlxd_super_atoms.append( np.mean(local_descriptor.get_features(structure), axis=0) )"
   ]
  },
  {
   "cell_type": "code",
   "execution_count": 169,
   "metadata": {},
   "outputs": [],
   "source": [
    "## Get the 'super atom' descriptors for the relaxed structures\n",
    "rlxd_super_atoms = []\n",
    "for structure in rlxd_structures:\n",
    "  rlxd_super_atoms.append( np.mean(local_descriptor.get_features(structure), axis=0) )"
   ]
  },
  {
   "cell_type": "code",
   "execution_count": 170,
   "metadata": {},
   "outputs": [],
   "source": [
    "## Get the 'super atom' descriptors for the known structures\n",
    "known_super_atoms = []\n",
    "for structure in known_phases:\n",
    "  known_super_atoms.append( np.mean(local_descriptor.get_features(structure), axis=0) )"
   ]
  },
  {
   "cell_type": "code",
   "execution_count": 171,
   "metadata": {},
   "outputs": [],
   "source": [
    "## Fit the PCA model to the unrelaxed or relaxed structures\n",
    "rlxd_string = \"rlxd\""
   ]
  },
  {
   "cell_type": "code",
   "execution_count": null,
   "metadata": {},
   "outputs": [],
   "source": [
    "## Save pca model\n",
    "import pickle\n",
    "if False:\n",
    "  pca.fit(np.squeeze([arr for arr in rlxd_super_atoms]))\n",
    "  with open(\"pca_model_all_rlxd_r_\"+str(seed)+\".pkl\", \"wb\") as f:\n",
    "    pickle.dump(pca, f)\n",
    "\n",
    "## Load pca model\n",
    "with open(\"pca_model_all_\"+rlxd_string+\"_r_0.pkl\", \"rb\") as f:\n",
    "  pca = pickle.load(f)"
   ]
  },
  {
   "cell_type": "code",
   "execution_count": 173,
   "metadata": {},
   "outputs": [],
   "source": [
    "## Transform the unrelaxed and relaxed structures to the reduced space\n",
    "unrlxd_X_reduced = pca.transform(np.squeeze([arr for arr in unrlxd_super_atoms]))\n",
    "rlxd_X_reduced = pca.transform(np.squeeze([arr for arr in rlxd_super_atoms]))\n",
    "known_X_reduced = pca.transform(np.squeeze([arr for arr in rlxd_super_atoms]))\n",
    "#known_X_reduced = pca.transform(np.squeeze([arr for arr in known_super_atoms]))"
   ]
  },
  {
   "cell_type": "code",
   "execution_count": 174,
   "metadata": {},
   "outputs": [
    {
     "name": "stdout",
     "output_type": "stream",
     "text": [
      "432\n"
     ]
    }
   ],
   "source": [
    "## Get the index of the structure with the minimum energy\n",
    "min_energy_index = np.argmin(rlxd_delta_en_per_atom)\n",
    "print(min_energy_index)"
   ]
  },
  {
   "cell_type": "code",
   "execution_count": 175,
   "metadata": {},
   "outputs": [
    {
     "name": "stderr",
     "output_type": "stream",
     "text": [
      "/tmp/ipykernel_3790409/3558710562.py:19: UserWarning: No artists with labels found to put in legend.  Note that artists whose label start with an underscore are ignored when legend() is called with no argument.\n",
      "  ax.legend(fontsize=10)\n"
     ]
    },
    {
     "data": {
      "image/png": "[encoded data removed]",
      "text/plain": [
       "<Figure size 800x600 with 3 Axes>"
      ]
     },
     "metadata": {},
     "output_type": "display_data"
    }
   ],
   "source": [
    "## Plot the PCA\n",
    "fig, axes = plt.subplots(nrows=1, ncols=2, figsize=(8, 6))\n",
    "\n",
    "plt.subplots_adjust(wspace=0.05, hspace=0)\n",
    "\n",
    "## Get the maximum energy for the colourbar\n",
    "max_en = min(3.0, max(np.max(unrlxd_delta_en_per_atom), np.max(rlxd_delta_en_per_atom)))\n",
    "\n",
    "## Plot the PCA\n",
    "axes[0].scatter(unrlxd_X_reduced[:, 0], unrlxd_X_reduced[:, 1], c=unrlxd_delta_en_per_atom, cmap=\"viridis\", vmin = 0, vmax = max_en)\n",
    "axes[1].scatter(rlxd_X_reduced[:, 0], rlxd_X_reduced[:, 1], c=rlxd_delta_en_per_atom, cmap=\"viridis\", vmin = 0, vmax = max_en)\n",
    "\n",
    "# Sort pairs of opacity and X_reduced by opacity value (highest to lowest)\n",
    "sorted_pairs = sorted(zip(opacity_list, known_X_reduced, known_phase_labels), key=lambda x: x[0], reverse=False)\n",
    "## Add the minimum energy structures to the plot\n",
    "for ax in axes:\n",
    "  for i, X in enumerate(sorted_pairs):\n",
    "    ax.scatter(X[1][0], X[1][1], s=200, edgecolor=[1.0, 1.0-X[0], 1.0-X[0], X[0]], facecolor='none', linewidth=2, label=X[2])\n",
    "  ax.legend(fontsize=10)\n",
    "  handles, labels = ax.get_legend_handles_labels()\n",
    "  ax.legend(handles[::-1], labels[::-1], facecolor='white', framealpha=1.0, edgecolor='black', fancybox=False, loc='upper left')\n",
    "   \n",
    "\n",
    "## Add labels\n",
    "fig.text(0.5, 0.04, 'Principal Component 1', ha='center', fontsize=15)\n",
    "axes[0].set_ylabel('Principal Component 2', fontsize=15)\n",
    "axes[0].set_title('Unrelaxed')\n",
    "axes[1].set_title('Relaxed')\n",
    "if rlxd_string == \"rlxd\":\n",
    "  xlims = [-30, 65]\n",
    "  ylims = [-5, 40]\n",
    "else:\n",
    "  xlims = [-42, 55]\n",
    "  ylims = [-12, 30]\n",
    "\n",
    "for ax in axes:\n",
    "  ax.tick_params(axis='both', direction='in')\n",
    "  ax.set_xlim(xlims)\n",
    "  ax.set_ylim(ylims)\n",
    "\n",
    "## Unify tick labels\n",
    "xticks = axes[0].get_xticks()\n",
    "xticks = xticks[(xticks >= xlims[0]) & (xticks <= xlims[1])]\n",
    "\n",
    "axes[1].set_xticks(xticks)\n",
    "axes[1].set_yticklabels([])\n",
    "axes[0].tick_params(axis='x', labelbottom=True, top=True)\n",
    "axes[1].tick_params(axis='x', labelbottom=True, top=True)\n",
    "axes[0].tick_params(axis='y', labelbottom=True, right=True)\n",
    "axes[1].tick_params(axis='y', labelbottom=True, right=True)\n",
    "\n",
    "## Make axes[0] and axes[1] the same width\n",
    "axes[0].set_box_aspect(1.7)\n",
    "axes[1].set_box_aspect(1.7)\n",
    "\n",
    "## Add colorbar next to the axes\n",
    "cbar = fig.colorbar(axes[1].collections[0], ax=axes, orientation='vertical', fraction=0.085, pad=0.02)\n",
    "cbar.set_label('Formation energy (eV/atom)', fontsize=15)\n",
    "\n",
    "## Save the figure\n",
    "#plt.savefig('Al_RAFFLE_pca_'+rlxd_string+'_fit_seed'+str(seed)+'.pdf', bbox_inches='tight', pad_inches=0, facecolor=fig.get_facecolor(), edgecolor='none')\n"
   ]
  },
  {
   "cell_type": "code",
   "execution_count": 176,
   "metadata": {},
   "outputs": [],
   "source": [
    "## Identify the line of structures in the lower right corner\n",
    "for i in range(len(rlxd_X_reduced)):\n",
    "  if rlxd_X_reduced[i, 0] > 40 and rlxd_X_reduced[i, 0] < 45 and rlxd_X_reduced[i, 1] > -5 and rlxd_X_reduced[i, 1] < 0:\n",
    "    print(i)"
   ]
  },
  {
   "cell_type": "code",
   "execution_count": null,
   "metadata": {},
   "outputs": [],
   "source": []
  }
 ],
 "metadata": {
  "kernelspec": {
   "display_name": "raffle_env",
   "language": "python",
   "name": "python3"
  },
  "language_info": {
   "codemirror_mode": {
    "name": "ipython",
    "version": 3
   },
   "file_extension": ".py",
   "mimetype": "text/x-python",
   "name": "python",
   "nbconvert_exporter": "python",
   "pygments_lexer": "ipython3",
   "version": "3.12.9"
  }
 },
 "nbformat": 4,
 "nbformat_minor": 2
}
