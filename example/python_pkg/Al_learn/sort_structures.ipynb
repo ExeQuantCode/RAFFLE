{
 "cells": [
  {
   "cell_type": "code",
   "execution_count": null,
   "metadata": {},
   "outputs": [],
   "source": [
    "import matplotlib\n",
    "# %matplotlib inline\n",
    "# print(\"BACKEND: \", matplotlib.get_backend())\n",
    "# if matplotlib.get_backend() != \"macosx\":\n",
    "#   print(\"Changing backend to macosx\")\n",
    "#   matplotlib.use('macosx')\n"
   ]
  },
  {
   "cell_type": "code",
   "execution_count": null,
   "metadata": {},
   "outputs": [],
   "source": [
    "import matplotlib.pyplot as plt\n",
    "%matplotlib inline\n",
    "\n",
    "# matplotlib.use(\"Agg\")\n",
    "\n",
    "from ase.visualize import view\n",
    "\n",
    "from ase import Atoms\n",
    "from ase.build import bulk\n",
    "from ase.io import read, write\n",
    "from agox.databases import Database\n",
    "from agox.environments import Environment\n",
    "from agox.utils.graph_sorting import Analysis\n",
    "\n",
    "import numpy as np"
   ]
  },
  {
   "cell_type": "code",
   "execution_count": null,
   "metadata": {},
   "outputs": [],
   "source": [
    "# matplotlib.rcParams.update(matplotlib.rcParamsDefault)\n",
    "plt.rc('text', usetex=True)\n",
    "plt.rc('font', family='cmr10', size=12)\n",
    "plt.rcParams[\"axes.formatter.use_mathtext\"] = True"
   ]
  },
  {
   "cell_type": "code",
   "execution_count": null,
   "metadata": {},
   "outputs": [],
   "source": [
    "from agox.models.descriptors import SOAP\n",
    "local_descriptor = local_descriptor = SOAP.from_species([\"Al\"], r_cut=5.0)\n"
   ]
  },
  {
   "cell_type": "code",
   "execution_count": null,
   "metadata": {},
   "outputs": [],
   "source": [
    "import glob\n",
    "from chgnet.model import CHGNetCalculator\n",
    "calc = CHGNetCalculator()\n",
    "# # for each POSCAR_[0-9] in iteration*/, read in to Atoms() object and attach calculator\n",
    "# poscar_files = glob.glob(\"iteration*/POSCAR_[0-9]\")\n",
    "# atoms_list = []\n",
    "# for poscar_file in poscar_files:\n",
    "#   atoms = read(poscar_file)\n",
    "#   atoms.calc =calc\n",
    "#   atoms_list.append(atoms)\n"
   ]
  },
  {
   "cell_type": "code",
   "execution_count": null,
   "metadata": {},
   "outputs": [],
   "source": [
    "# for each POSCAR_[0-9] in iteration*/, read in to Atoms() object and attach calculator\n",
    "poscar_files = glob.glob(\"Known_phases/*.vasp\")\n",
    "known_phases = []\n",
    "opacity_list = []\n",
    "for poscar_file in poscar_files:\n",
    "  phase = read(poscar_file)\n",
    "  opacity = None\n",
    "  if \"mp-134.vasp\" in poscar_file:\n",
    "    print(\"FCC\")\n",
    "    cell = phase.get_cell()\n",
    "    cell = [ vec * 4.02 / np.linalg.norm(vec) for vec in cell]\n",
    "    phase.set_cell(cell, scale_atoms=True)\n",
    "    opacity = 1.0\n",
    "  elif \"mp-2647008.vasp\" in poscar_file:\n",
    "    print(\"HCP\")\n",
    "    cell = phase.get_cell()\n",
    "    cell = [ vec * 3.56 / np.linalg.norm(vec) for vec in cell]\n",
    "    phase.set_cell(cell, scale_atoms=True)\n",
    "    opacity = 0.6\n",
    "  elif \"mp-998860.vasp\" in poscar_file:\n",
    "    print(\"BCC\")\n",
    "    cell = phase.get_cell()\n",
    "    cell = [ vec * 3.10 / np.linalg.norm(vec) for vec in cell]\n",
    "    phase.set_cell(cell, scale_atoms=True)\n",
    "    opacity = 0.4\n",
    "  elif \"mp-1183144.vasp\" in poscar_file:\n",
    "    print(\"Weird\")\n",
    "    cell = phase.get_cell()\n",
    "    # cell[0] = [ vec * 4.94 / np.linalg.norm(vec) for vec in cell]\n",
    "    # cell[1] = [ vec * 4.94 / np.linalg.norm(vec) for vec in cell]\n",
    "    cell[2] = cell[2] * 9.88 / np.linalg.norm(cell[2])\n",
    "    phase.set_cell(cell, scale_atoms=True)\n",
    "    opacity = 0.8\n",
    "  else:\n",
    "    print(\"Skipping \", poscar_file)\n",
    "    continue\n",
    "  opacity_list.append(opacity)\n",
    "  phase.calc = calc\n",
    "  known_phases.append(phase)"
   ]
  },
  {
   "cell_type": "code",
   "execution_count": null,
   "metadata": {},
   "outputs": [],
   "source": [
    "unrlxd_structures = read(\"DTMP_right_lattice_constant/unrlxd_structures_seed\"+str(seed)+\".traj\", index=\":\")\n",
    "for structure in unrlxd_structures:\n",
    "  structure.calc = calc"
   ]
  },
  {
   "cell_type": "code",
   "execution_count": null,
   "metadata": {},
   "outputs": [],
   "source": [
    "rlxd_structures = read(\"DTMP_right_lattice_constant/rlxd_structures_seed\"+str(seed)+\".traj\", index=\":\")\n",
    "for structure in rlxd_structures:\n",
    "  structure.calc = calc\n",
    "min_energy = np.min([structure.get_potential_energy()/len(structure) for structure in rlxd_structures])"
   ]
  },
  {
   "cell_type": "code",
   "execution_count": null,
   "metadata": {},
   "outputs": [],
   "source": [
    "# Calculate energies per atom for each unique structure\n",
    "energies_per_atom = [structure.get_potential_energy() / len(structure) for structure in unrlxd_structures]\n",
    "unrlxd_delta_en_per_atom = np.array(energies_per_atom) - min_energy\n",
    "print(\"Unrelaxed min energy: \", np.min(energies_per_atom))"
   ]
  },
  {
   "cell_type": "code",
   "execution_count": null,
   "metadata": {},
   "outputs": [],
   "source": [
    "energies_per_atom = [structure.get_potential_energy() / len(structure) for structure in rlxd_structures]\n",
    "rlxd_delta_en_per_atom = np.array(energies_per_atom) - min_energy\n",
    "print(\"Relaxed min energy: \", np.min(energies_per_atom))"
   ]
  },
  {
   "cell_type": "code",
   "execution_count": null,
   "metadata": {},
   "outputs": [],
   "source": [
    "from sklearn.decomposition import PCA"
   ]
  },
  {
   "cell_type": "code",
   "execution_count": null,
   "metadata": {},
   "outputs": [],
   "source": [
    "pca = PCA(n_components=2)"
   ]
  },
  {
   "cell_type": "code",
   "execution_count": null,
   "metadata": {},
   "outputs": [],
   "source": [
    "unrlxd_super_atoms = []\n",
    "for structure in unrlxd_structures:\n",
    "  unrlxd_super_atoms.append( np.mean(local_descriptor.get_features(structure), axis=0) )"
   ]
  },
  {
   "cell_type": "code",
   "execution_count": null,
   "metadata": {},
   "outputs": [],
   "source": [
    "rlxd_super_atoms = []\n",
    "for structure in rlxd_structures:\n",
    "  rlxd_super_atoms.append( np.mean(local_descriptor.get_features(structure), axis=0) )"
   ]
  },
  {
   "cell_type": "code",
   "execution_count": null,
   "metadata": {},
   "outputs": [],
   "source": [
    "known_super_atoms = []\n",
    "for structure in known_phases:\n",
    "  known_super_atoms.append( np.mean(local_descriptor.get_features(structure), axis=0) )"
   ]
  },
  {
   "cell_type": "code",
   "execution_count": null,
   "metadata": {},
   "outputs": [],
   "source": [
    "# save pca model\n",
    "import pickle\n",
    "if True:\n",
    "  pca.fit(np.squeeze([arr for arr in rlxd_super_atoms]))\n",
    "  with open(\"pca_model_all_rlxd_\"+str(seed)+\".pkl\", \"wb\") as f:\n",
    "    pickle.dump(pca, f)\n",
    "\n",
    "# load pca model\n",
    "with open(\"pca_model_all_\"+rlxd_string+\"_0.pkl\", \"rb\") as f:\n",
    "  pca = pickle.load(f)"
   ]
  },
  {
   "cell_type": "code",
   "execution_count": null,
   "metadata": {},
   "outputs": [],
   "source": [
    "unrlxd_X_reduced = pca.transform(np.squeeze([arr for arr in unrlxd_super_atoms]))\n",
    "rlxd_X_reduced = pca.transform(np.squeeze([arr for arr in rlxd_super_atoms]))\n",
    "known_X_reduced = pca.transform(np.squeeze([arr for arr in known_super_atoms]))"
   ]
  },
  {
   "cell_type": "code",
   "execution_count": null,
   "metadata": {},
   "outputs": [],
   "source": [
    "min_energy_index = np.argmin(rlxd_delta_en_per_atom)\n",
    "print(min_energy_index)"
   ]
  },
  {
   "cell_type": "code",
   "execution_count": null,
   "metadata": {},
   "outputs": [],
   "source": [
    "fig, axes = plt.subplots(nrows=1, ncols=2, figsize=(8, 6))\n",
    "\n",
    "plt.subplots_adjust(wspace=0.05, hspace=0)\n",
    "\n",
    "max_en = min(3.0, max(np.max(unrlxd_delta_en_per_atom), np.max(rlxd_delta_en_per_atom)))\n",
    "\n",
    "axes[0].scatter(unrlxd_X_reduced[:, 0], unrlxd_X_reduced[:, 1], c=unrlxd_delta_en_per_atom, cmap=\"viridis\", vmin = 0, vmax = max_en)\n",
    "axes[1].scatter(rlxd_X_reduced[:, 0], rlxd_X_reduced[:, 1], c=rlxd_delta_en_per_atom, cmap=\"viridis\", vmin = 0, vmax = max_en)\n",
    "for ax in axes:\n",
    "  # ax.scatter(rlxd_X_reduced[min_energy_index, 0], rlxd_X_reduced[min_energy_index, 1], s=200, edgecolor='red', facecolor='none', linewidth=2)\n",
    "  for i, X in enumerate(known_X_reduced):\n",
    "    # if opacity_list[i] == 1.0 or opacity_list[i] == 0.8:\n",
    "    #   continue\n",
    "    print(i, opacity_list[i])\n",
    "    ax.scatter(X[0], X[1], s=200, edgecolor=[1.0, 0.0, 0.0, opacity_list[i]], facecolor='none', linewidth=2)\n",
    "  \n",
    "\n",
    "fig.text(0.5, 0.04, 'Principal Component 1', ha='center', fontsize=15)\n",
    "axes[0].set_ylabel('Principal Component 2', fontsize=15)\n",
    "axes[0].set_title('Unrelaxed')\n",
    "axes[1].set_title('Relaxed')\n",
    "if rlxd_string == \"rlxd\":\n",
    "  xlims = [-30, 65]\n",
    "  ylims = [-5, 40]\n",
    "else:\n",
    "  xlims = [-42, 55]\n",
    "  ylims = [-12, 30]\n",
    "\n",
    "for ax in axes:\n",
    "  ax.tick_params(axis='both', direction='in')\n",
    "  # ax.set_xlim(xlims)\n",
    "  # ax.set_ylim(ylims)\n",
    "\n",
    "# unify tick labels\n",
    "xticks = axes[0].get_xticks()\n",
    "xticks = xticks[(xticks >= xlims[0]) & (xticks <= xlims[1])]\n",
    "\n",
    "axes[1].set_xticks(xticks)\n",
    "axes[1].set_yticklabels([])\n",
    "axes[0].tick_params(axis='x', labelbottom=True, top=True)\n",
    "axes[1].tick_params(axis='x', labelbottom=True, top=True)\n",
    "axes[0].tick_params(axis='y', labelbottom=True, right=True)\n",
    "axes[1].tick_params(axis='y', labelbottom=True, right=True)\n",
    "\n",
    "# Make axes[0] and axes[1] the same width\n",
    "axes[0].set_box_aspect(1.7)\n",
    "axes[1].set_box_aspect(1.7)\n",
    "\n",
    "# Add colorbar next to the axes\n",
    "cbar = fig.colorbar(axes[1].collections[0], ax=axes, orientation='vertical', fraction=0.085, pad=0.02)\n",
    "cbar.set_label('Formation energy (eV/atom)', fontsize=15)\n",
    "\n",
    "plt.savefig('Al_RAFFLE_pca_'+rlxd_string+'_fit_seed'+str(seed)+'.pdf', bbox_inches='tight', pad_inches=0, facecolor=fig.get_facecolor(), edgecolor='none')"
   ]
  },
  {
   "cell_type": "code",
   "execution_count": null,
   "metadata": {},
   "outputs": [],
   "source": []
  }
 ],
 "metadata": {
  "kernelspec": {
   "display_name": "raffle_env",
   "language": "python",
   "name": "python3"
  },
  "language_info": {
   "codemirror_mode": {
    "name": "ipython",
    "version": 3
   },
   "file_extension": ".py",
   "mimetype": "text/x-python",
   "name": "python",
   "nbconvert_exporter": "python",
   "pygments_lexer": "ipython3",
   "version": "3.12.2"
  }
 },
 "nbformat": 4,
 "nbformat_minor": 2
}
