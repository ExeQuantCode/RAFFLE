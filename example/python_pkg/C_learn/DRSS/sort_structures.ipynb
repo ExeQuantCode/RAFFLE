{
 "cells": [
  {
   "cell_type": "code",
   "execution_count": null,
   "metadata": {},
   "outputs": [],
   "source": [
    "import matplotlib\n",
    "# %matplotlib inline\n",
    "# print(\"BACKEND: \", matplotlib.get_backend())\n",
    "# if matplotlib.get_backend() != \"macosx\":\n",
    "#   print(\"Changing backend to macosx\")\n",
    "#   matplotlib.use('macosx')\n"
   ]
  },
  {
   "cell_type": "code",
   "execution_count": null,
   "metadata": {},
   "outputs": [],
   "source": [
    "\n",
    "import matplotlib.pyplot as plt\n",
    "%matplotlib inline\n",
    "\n",
    "# matplotlib.use(\"Agg\")\n",
    "\n",
    "from ase.visualize import view\n",
    "\n",
    "from ase import Atoms\n",
    "from ase.build import bulk\n",
    "from ase.io import read, write\n",
    "from agox.databases import Database\n",
    "from agox.environments import Environment\n",
    "from agox.utils.graph_sorting import Analysis"
   ]
  },
  {
   "cell_type": "code",
   "execution_count": null,
   "metadata": {},
   "outputs": [],
   "source": [
    "from agox.models.descriptors.fingerprint import Fingerprint\n",
    "from agox.models.descriptors import Voronoi\n",
    "import numpy as np\n",
    "\n",
    "template = Atoms(\"\", cell=np.eye(3) * 3.567, pbc=True)\n",
    "diamond = bulk(\"C\", \"diamond\", a=3.567)  # Lattice constant for diamond cubic carbon\n",
    "confinement_cell = template.cell.copy()\n",
    "confinement_corner = np.array([0, 0, 0])\n",
    "environment = Environment(\n",
    "    template=template,\n",
    "    symbols=\"C8\",\n",
    "    confinement_cell=confinement_cell,\n",
    "    confinement_corner=confinement_corner,\n",
    "    box_constraint_pbc=[True, True, True],  # Confinement is periodic in all directions.\n",
    ")\n",
    "descriptor = Fingerprint(environment=environment)\n",
    "graph_descriptor = Voronoi(\n",
    "    covalent_bond_scale_factor=1.3, n_points=8, angle_from_central_atom=20, environment=environment\n",
    ")\n"
   ]
  },
  {
   "cell_type": "code",
   "execution_count": null,
   "metadata": {},
   "outputs": [],
   "source": [
    "graph_sorting = Analysis(descriptor=graph_descriptor, directories=[\".\"], sample_size=40)"
   ]
  },
  {
   "cell_type": "code",
   "execution_count": null,
   "metadata": {},
   "outputs": [],
   "source": [
    "# structures = read(\"DMACE/D3-5/all.traj\", index=\":\")\n",
    "structures = read(\"all.traj\", index=\":\")\n"
   ]
  },
  {
   "cell_type": "code",
   "execution_count": null,
   "metadata": {},
   "outputs": [],
   "source": [
    "unique, count = graph_sorting.sort_structures(structures=structures)"
   ]
  },
  {
   "cell_type": "code",
   "execution_count": null,
   "metadata": {},
   "outputs": [],
   "source": [
    "# Calculate energies per atom for each unique structure\n",
    "energies_per_atom = [structure.get_potential_energy() / len(structure) for structure in unique]\n",
    "delta_en_per_atom = energies_per_atom - np.min(energies_per_atom)\n",
    "\n",
    "# Plot the number of unique structures vs the energies per atom\n",
    "plt.figure(figsize=(10, 6))\n",
    "plt.bar(delta_en_per_atom, count)\n",
    "plt.xlabel('Unique Structure Index')\n",
    "plt.ylabel('Energy per Atom (eV)')\n",
    "plt.title('Number of Unique Structures vs Energies per Atom')\n",
    "plt.show()"
   ]
  },
  {
   "cell_type": "code",
   "execution_count": null,
   "metadata": {},
   "outputs": [],
   "source": [
    "from sklearn.decomposition import PCA\n"
   ]
  },
  {
   "cell_type": "code",
   "execution_count": null,
   "metadata": {},
   "outputs": [],
   "source": [
    "pca = PCA(n_components=2)"
   ]
  },
  {
   "cell_type": "code",
   "execution_count": null,
   "metadata": {},
   "outputs": [],
   "source": [
    "X_reduced = pca.fit_transform(np.squeeze([arr for arr in descriptor.get_features(unique)]))"
   ]
  },
  {
   "cell_type": "code",
   "execution_count": null,
   "metadata": {},
   "outputs": [],
   "source": [
    "plt.figure(figsize=(10, 6))\n",
    "plt.scatter(X_reduced[:, 0], X_reduced[:, 1], c=delta_en_per_atom, cmap=\"viridis\")"
   ]
  },
  {
   "cell_type": "code",
   "execution_count": null,
   "metadata": {},
   "outputs": [],
   "source": [
    "plt.show()"
   ]
  },
  {
   "cell_type": "code",
   "execution_count": null,
   "metadata": {},
   "outputs": [],
   "source": []
  }
 ],
 "metadata": {
  "kernelspec": {
   "display_name": "raffle_env",
   "language": "python",
   "name": "python3"
  },
  "language_info": {
   "codemirror_mode": {
    "name": "ipython",
    "version": 3
   },
   "file_extension": ".py",
   "mimetype": "text/x-python",
   "name": "python",
   "nbconvert_exporter": "python",
   "pygments_lexer": "ipython3",
   "version": "3.12.8"
  }
 },
 "nbformat": 4,
 "nbformat_minor": 2
}
