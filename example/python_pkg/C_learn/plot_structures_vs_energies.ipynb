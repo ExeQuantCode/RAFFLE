{
 "cells": [
  {
   "cell_type": "code",
   "execution_count": 29,
   "metadata": {},
   "outputs": [],
   "source": [
    "import matplotlib.pyplot as plt\n",
    "%matplotlib inline\n",
    "\n",
    "import numpy as np\n",
    "from ase.io import read\n",
    "from matplotlib.ticker import AutoMinorLocator"
   ]
  },
  {
   "cell_type": "code",
   "execution_count": null,
   "metadata": {},
   "outputs": [],
   "source": [
    "## Set up the plotting environment\n",
    "# # matplotlib.rcParams.update(matplotlib.rcParamsDefault)\n",
    "plt.rc('text', usetex=True)\n",
    "plt.rc('font', family='cmr10', size=12)\n",
    "plt.rcParams[\"axes.formatter.use_mathtext\"] = True"
   ]
  },
  {
   "cell_type": "code",
   "execution_count": null,
   "metadata": {},
   "outputs": [],
   "source": [
    "## Set the plotting parameters\n",
    "method = \"RSS\"\n",
    "identifier = \"\"\n",
    "bin_width = 0.1\n",
    "rlxd_string = \"rlxd\"\n",
    "seed = 0"
   ]
  },
  {
   "cell_type": "code",
   "execution_count": null,
   "metadata": {},
   "outputs": [],
   "source": [
    "## Load the data\n",
    "energies = []\n",
    "if method == \"RAFFLE\":\n",
    "    filename = \"D\"+method+\"/DTMP\"+identifier+\"/energies_\"+rlxd_string+\"_seed\"+str(seed)+\".txt\"\n",
    "    with open(filename) as f:\n",
    "        for line in f:\n",
    "            index, energy = line.split()\n",
    "            index = int(index)\n",
    "            energy = float(energy)\n",
    "            energies.append(energy)\n",
    "else:\n",
    "    filename = \"D\"+method+\"/DTMP\"+identifier+\"/\"+rlxd_string+\"_structures_seed\"+str(seed)+\".traj\"\n",
    "    traj = read(filename, \":\")\n",
    "    for atoms in traj:\n",
    "        energies.append(atoms.get_potential_energy() / len(atoms))"
   ]
  },
  {
   "cell_type": "code",
   "execution_count": null,
   "metadata": {},
   "outputs": [],
   "source": [
    "## Get the delta energies and bin them\n",
    "en_per_atom = np.array(energies)\n",
    "delta_en_per_atom = en_per_atom - np.min(en_per_atom)\n",
    "\n",
    "# further reduce the delta_en_per_atom and count by the bin width\n",
    "delta_en_per_atom_rounded = np.round(delta_en_per_atom / bin_width) * bin_width\n",
    "delta_en_per_atom_binned = np.unique(delta_en_per_atom_rounded)\n",
    "\n",
    "counts = np.zeros(len(delta_en_per_atom_binned))\n",
    "for i, en in enumerate(delta_en_per_atom_rounded):\n",
    "    counts[np.where(delta_en_per_atom_binned == en)] += 1"
   ]
  },
  {
   "cell_type": "code",
   "execution_count": null,
   "metadata": {},
   "outputs": [
    {
     "data": {
      "image/png": "[encoded data removed]",
      "text/plain": [
       "<Figure size 600x600 with 1 Axes>"
      ]
     },
     "metadata": {},
     "output_type": "display_data"
    }
   ],
   "source": [
    "## Plot the number structures vs the energies per atom\n",
    "fig = plt.figure(figsize=(6, 6))\n",
    "ax = fig.add_subplot(111)\n",
    "plt.bar(delta_en_per_atom_binned, counts, width=0.1)\n",
    "plt.xlabel('Energy per atom (eV/atom)', fontsize=15)\n",
    "plt.ylabel('Number of structures', fontsize=15)\n",
    "ax.tick_params(axis='x', which='minor', length=3)\n",
    "ax.tick_params(axis='x', which='major', length=6)\n",
    "ax.tick_params(axis='x', which='both', labelbottom=True, top=True, direction='in')\n",
    "ax.tick_params(axis='y', which='both', labelbottom=True, right=True, direction='in')\n",
    "plt.bar(delta_en_per_atom_binned, counts, width=0.1, color='lightgrey', edgecolor='black')\n",
    "\n",
    "ax.set_xticks(np.arange(0, max(2.0,max(delta_en_per_atom_binned)) + 0.5, 0.5))\n",
    "ax.xaxis.set_minor_locator(AutoMinorLocator(2))\n",
    "\n",
    "## Save the plot\n",
    "plt.savefig(\"C_\"+method+identifier+\"_structures_vs_deltaE_\"+rlxd_string+\"_seed\"+str(seed)+\".pdf\", bbox_inches='tight', pad_inches=0, facecolor=fig.get_facecolor(), edgecolor='none')\n"
   ]
  }
 ],
 "metadata": {
  "kernelspec": {
   "display_name": "raffle_env",
   "language": "python",
   "name": "python3"
  },
  "language_info": {
   "codemirror_mode": {
    "name": "ipython",
    "version": 3
   },
   "file_extension": ".py",
   "mimetype": "text/x-python",
   "name": "python",
   "nbconvert_exporter": "python",
   "pygments_lexer": "ipython3",
   "version": "3.12.2"
  }
 },
 "nbformat": 4,
 "nbformat_minor": 2
}
