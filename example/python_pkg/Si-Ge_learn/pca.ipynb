{
 "cells": [
  {
   "cell_type": "code",
   "execution_count": null,
   "metadata": {},
   "outputs": [],
   "source": [
    "import matplotlib.pyplot as plt\n",
    "%matplotlib inline\n",
    "\n",
    "# matplotlib.use(\"Agg\")\n",
    "\n",
    "from ase import build\n",
    "from ase.optimize import FIRE\n",
    "from ase.io import read\n",
    "from agox.databases import Database\n",
    "from agox.environments import Environment\n",
    "from agox.utils.graph_sorting import Analysis\n",
    "\n",
    "import numpy as np\n",
    "from sklearn.decomposition import PCA"
   ]
  },
  {
   "cell_type": "code",
   "execution_count": null,
   "metadata": {},
   "outputs": [],
   "source": [
    "## Set up the plotting environment\n",
    "# matplotlib.rcParams.update(matplotlib.rcParamsDefault)\n",
    "plt.rc('text', usetex=True)\n",
    "plt.rc('font', family='cmr10', size=12)\n",
    "plt.rcParams[\"axes.formatter.use_mathtext\"] = True"
   ]
  },
  {
   "cell_type": "code",
   "execution_count": null,
   "metadata": {},
   "outputs": [],
   "source": [
    "## Set the plotting parameters\n",
    "seed = 0\n",
    "identifier1 = \"2\"\n",
    "identifier2 = \"3\"\n",
    "# min_energy = -3.6635127# -3.7717605425"
   ]
  },
  {
   "cell_type": "code",
   "execution_count": null,
   "metadata": {},
   "outputs": [],
   "source": [
    "## Set the descriptors\n",
    "from agox.models.descriptors import SOAP, Voronoi\n",
    "local_descriptor = local_descriptor = SOAP.from_species([\"Si\", \"Ge\"], r_cut=5.0)\n",
    "\n",
    "graph_descriptor = Voronoi(\n",
    "    covalent_bond_scale_factor=1.3, n_points=8, angle_from_central_atom=20, environment=None\n",
    ")"
   ]
  },
  {
   "cell_type": "code",
   "execution_count": null,
   "metadata": {},
   "outputs": [],
   "source": [
    "## Set the calculators\n",
    "from chgnet.model import CHGNetCalculator\n",
    "from ase.calculators.singlepoint import SinglePointCalculator\n",
    "calc = CHGNetCalculator()"
   ]
  },
  {
   "cell_type": "code",
   "execution_count": null,
   "metadata": {},
   "outputs": [],
   "source": [
    "## Load the unrelaxed structures\n",
    "unrlxd_structures1 = read(\"DTMP\"+identifier1+\"/unrlxd_structures_seed\"+str(seed)+\".traj\", index=\":\")\n",
    "for structure in unrlxd_structures1:\n",
    "  structure.calc = calc\n",
    "\n",
    "## Load the additional relaxed structures\n",
    "unrlxd_structures2 = read(\"DTMP\"+identifier2+\"/unrlxd_structures_seed\"+str(seed)+\".traj\", index=\":\")\n"
   ]
  },
  {
   "cell_type": "code",
   "execution_count": null,
   "metadata": {},
   "outputs": [],
   "source": [
    "## Load the relaxed structures\n",
    "rlxd_structures1 = read(\"DTMP\"+identifier1+\"/rlxd_structures_seed\"+str(seed)+\".traj\", index=\":\")\n",
    "for structure in rlxd_structures1:\n",
    "  structure.calc = calc\n",
    "\n",
    "## Load the additional relaxed structures\n",
    "rlxd_structures2 = read(\"DTMP\"+identifier2+\"/rlxd_structures_seed\"+str(seed)+\".traj\", index=\":\")"
   ]
  },
  {
   "cell_type": "code",
   "execution_count": null,
   "metadata": {},
   "outputs": [],
   "source": [
    "## Read energies from energies_unrlxd_seed0.txt and add to the respective structures using a SinglePointCalculator\n",
    "## The file has the form \"index energy\"\n",
    "## This is done because there seem to be issues with storing the energy in the ASE trajectory file for some setups\n",
    "filename = \"DTMP\"+identifier1+\"/energies_unrlxd_seed\"+str(seed)+\".txt\"\n",
    "with open(filename) as f:\n",
    "    for line in f:\n",
    "        index, energy = line.split()\n",
    "        index = int(index)\n",
    "        energy = float(energy)\n",
    "        unrlxd_structures1[index].calc = SinglePointCalculator(unrlxd_structures1[index], energy=energy * len(unrlxd_structures1[index]))\n",
    "\n",
    "\n",
    "filename = \"DTMP\"+identifier1+\"/energies_rlxd_seed\"+str(seed)+\".txt\"\n",
    "with open(filename) as f:\n",
    "    for line in f:\n",
    "        index, energy = line.split()\n",
    "        index = int(index)\n",
    "        energy = float(energy)\n",
    "        rlxd_structures1[index].calc = SinglePointCalculator(rlxd_structures1[index], energy=energy * len(rlxd_structures1[index]))\n",
    "\n",
    "filename = \"DTMP\"+identifier2+\"/energies_unrlxd_seed\"+str(seed)+\".txt\"\n",
    "with open(filename) as f:\n",
    "    for line in f:\n",
    "        index, energy = line.split()\n",
    "        index = int(index)\n",
    "        energy = float(energy)\n",
    "        unrlxd_structures2[index].calc = SinglePointCalculator(unrlxd_structures2[index], energy=energy * len(unrlxd_structures2[index]))\n",
    "\n",
    "\n",
    "filename = \"DTMP\"+identifier2+\"/energies_rlxd_seed\"+str(seed)+\".txt\"\n",
    "with open(filename) as f:\n",
    "    for line in f:\n",
    "        index, energy = line.split()\n",
    "        index = int(index)\n",
    "        energy = float(energy)\n",
    "        rlxd_structures2[index].calc = SinglePointCalculator(rlxd_structures2[index], energy=energy * len(rlxd_structures2[index]))"
   ]
  },
  {
   "cell_type": "code",
   "execution_count": null,
   "metadata": {},
   "outputs": [],
   "source": [
    "unrlxd_structures = unrlxd_structures1 + unrlxd_structures2\n",
    "rlxd_structures = rlxd_structures1 + rlxd_structures2"
   ]
  },
  {
   "cell_type": "code",
   "execution_count": null,
   "metadata": {},
   "outputs": [],
   "source": [
    "## Get bulk reference energies\n",
    "Si_bulk = build.bulk(\"Si\", crystalstructure=\"diamond\", a=5.43)\n",
    "Si_bulk.calc = calc\n",
    "Si_reference_energy = Si_bulk.get_potential_energy() / len(Si_bulk)\n",
    "Si_cubic = build.make_supercell(Si_bulk, [[-1, 1, 1], [1, -1, 1], [1, 1, -1]])\n",
    "\n",
    "Ge_bulk = build.bulk(\"Ge\", crystalstructure=\"diamond\", a=5.65)\n",
    "Ge_bulk.calc = calc\n",
    "Ge_reference_energy = Ge_bulk.get_potential_energy() / len(Ge_bulk)\n",
    "Ge_cubic = build.make_supercell(Ge_bulk, [[-1, 1, 1], [1, -1, 1], [1, 1, -1]])\n"
   ]
  },
  {
   "cell_type": "code",
   "execution_count": null,
   "metadata": {},
   "outputs": [],
   "source": [
    "## Get slab energetics\n",
    "Si_slab_vac = read(\"Si_slab.vasp\")\n",
    "Ge_slab_vac = read(\"Ge_slab.vasp\")\n",
    "Si_slab_vac.calc = calc\n",
    "Ge_slab_vac.calc = calc\n",
    "optimizer = FIRE(Si_slab_vac)\n",
    "optimizer.run(fmax=0.05, steps=100)\n",
    "optimizer = FIRE(Ge_slab_vac)\n",
    "optimizer.run(fmax=0.05, steps=100)"
   ]
  },
  {
   "cell_type": "code",
   "execution_count": null,
   "metadata": {},
   "outputs": [],
   "source": [
    "## Get abrupt interface energetics\n",
    "SiGe_abrupt = read(\"SiGe_abrupt_interface.vasp\")\n",
    "SiGe_abrupt.calc = calc\n",
    "SiGe_abrupt.set_cell(rlxd_structures[0].get_cell(), scale_atoms=True)\n",
    "optimizer = FIRE(SiGe_abrupt)\n",
    "optimizer.run(fmax=0.05, steps=100)"
   ]
  },
  {
   "cell_type": "code",
   "execution_count": null,
   "metadata": {},
   "outputs": [],
   "source": [
    "## Get abrupt interface area\n",
    "area = np.linalg.norm(np.cross(SiGe_abrupt.get_cell()[0], SiGe_abrupt.get_cell()[1]))\n",
    "print(\"Interface area: \", area)"
   ]
  },
  {
   "cell_type": "code",
   "execution_count": null,
   "metadata": {},
   "outputs": [],
   "source": [
    "## Function to get the interface formation energy\n",
    "def get_interface_energy(struc, Si_slab, Ge_slab, extra=False):\n",
    "    energy = struc.get_potential_energy()\n",
    "    cell = struc.get_cell()\n",
    "    area = np.linalg.norm(np.cross(cell[0], cell[1]))\n",
    "    Si_energy = Si_slab.get_potential_energy()\n",
    "    Ge_energy = Ge_slab.get_potential_energy()\n",
    "    ## need to subtract remaining silicon and germanium energies also\n",
    "    if extra:\n",
    "        return (energy - Si_energy - Ge_energy - 16*(Si_reference_energy + Ge_reference_energy)) / (2.0 * area)\n",
    "    else:\n",
    "        return (energy - Si_energy - Ge_energy) / (2.0 * area)"
   ]
  },
  {
   "cell_type": "code",
   "execution_count": null,
   "metadata": {},
   "outputs": [],
   "source": [
    "# print(\"abrupt match 2 layers energy: \", get_interface_energy(abrupt, Si_slab, Ge_slab))\n",
    "# print(\"abrupt match 3 layers energy: \", get_interface_energy(abrupt_3, Si_slab_3, Ge_slab_3))"
   ]
  },
  {
   "cell_type": "code",
   "execution_count": null,
   "metadata": {},
   "outputs": [],
   "source": [
    "abrupt_en_per_area = get_interface_energy(SiGe_abrupt, Si_slab_vac, Ge_slab_vac, False)\n",
    "print(\"Abrupt min energy: \", abrupt_en_per_area)"
   ]
  },
  {
   "cell_type": "code",
   "execution_count": null,
   "metadata": {},
   "outputs": [],
   "source": [
    "## Calculate energies per atom for each unrelaxed structure\n",
    "unrlxd_en_per_area = [get_interface_energy(structure, Si_slab_vac, Ge_slab_vac, False) for structure in unrlxd_structures]\n",
    "print(\"Unrelaxed min energy: \", np.min(unrlxd_en_per_area))"
   ]
  },
  {
   "cell_type": "code",
   "execution_count": null,
   "metadata": {},
   "outputs": [],
   "source": [
    "## Calculate energies per atom for each relaxed structure\n",
    "rlxd_en_per_area = [get_interface_energy(structure, Si_slab_vac, Ge_slab_vac, False) for structure in rlxd_structures]\n",
    "print(\"Relaxed min energy: \", np.min(rlxd_en_per_area))"
   ]
  },
  {
   "cell_type": "code",
   "execution_count": null,
   "metadata": {},
   "outputs": [],
   "source": [
    "## Set up the PCA\n",
    "pca = PCA(n_components=2)"
   ]
  },
  {
   "cell_type": "code",
   "execution_count": null,
   "metadata": {},
   "outputs": [],
   "source": [
    "## Get the 'super atom' descriptors for the unrelaxed structures\n",
    "unrlxd_super_atoms = []\n",
    "for structure in unrlxd_structures:\n",
    "  unrlxd_super_atoms.append( np.mean(local_descriptor.get_features(structure), axis=0) )"
   ]
  },
  {
   "cell_type": "code",
   "execution_count": null,
   "metadata": {},
   "outputs": [],
   "source": [
    "## Get the 'super atom' descriptors for the relaxed structures\n",
    "rlxd_super_atoms = []\n",
    "for structure in rlxd_structures:\n",
    "  rlxd_super_atoms.append( np.mean(local_descriptor.get_features(structure), axis=0) )"
   ]
  },
  {
   "cell_type": "code",
   "execution_count": null,
   "metadata": {},
   "outputs": [],
   "source": [
    "## Fit the PCA model to the unrelaxed or relaxed structures\n",
    "rlxd_string = \"rlxd\""
   ]
  },
  {
   "cell_type": "code",
   "execution_count": null,
   "metadata": {},
   "outputs": [],
   "source": [
    "## Save pca model\n",
    "import pickle\n",
    "if True:\n",
    "  pca.fit(np.squeeze([arr for arr in rlxd_super_atoms]))\n",
    "  with open(\"pca_model_all_rlxd_\"+str(seed)+\".pkl\", \"wb\") as f:\n",
    "    pickle.dump(pca, f)\n",
    "\n",
    "## Load pca model\n",
    "with open(\"pca_model_all_\"+rlxd_string+\"_0.pkl\", \"rb\") as f:\n",
    "  pca = pickle.load(f)"
   ]
  },
  {
   "cell_type": "code",
   "execution_count": null,
   "metadata": {},
   "outputs": [],
   "source": [
    "abrupt_super_atom = []\n",
    "abrupt_super_atom.append(np.mean(local_descriptor.get_features(SiGe_abrupt), axis=0))\n",
    "abrupt_super_atom.append(np.mean(local_descriptor.get_features(SiGe_abrupt), axis=0))"
   ]
  },
  {
   "cell_type": "code",
   "execution_count": null,
   "metadata": {},
   "outputs": [],
   "source": [
    "## Transform the unrelaxed and relaxed structures to the reduced space\n",
    "unrlxd_X_reduced = pca.transform(np.squeeze([arr for arr in unrlxd_super_atoms]))\n",
    "rlxd_X_reduced = pca.transform(np.squeeze([arr for arr in rlxd_super_atoms]))\n",
    "abrupt_X_reduced = pca.transform(np.squeeze([arr for arr in abrupt_super_atom]))"
   ]
  },
  {
   "cell_type": "code",
   "execution_count": null,
   "metadata": {},
   "outputs": [],
   "source": [
    "## Get the index of the structure with the minimum energy\n",
    "min_energy_index = np.argmin(rlxd_en_per_area)\n",
    "print(min_energy_index)"
   ]
  },
  {
   "cell_type": "code",
   "execution_count": null,
   "metadata": {},
   "outputs": [],
   "source": [
    "## Plot the PCA\n",
    "fig, axes = plt.subplots(nrows=1, ncols=2, figsize=(8, 6))\n",
    "\n",
    "plt.subplots_adjust(wspace=0.05, hspace=0)\n",
    "\n",
    "## Get the maximum energy for the colourbar\n",
    "scaled_unrlxd_ens = [x * 1000 for x in unrlxd_en_per_area]\n",
    "scaled_rlxd_ens = [x * 1000 for x in rlxd_en_per_area]\n",
    "scaled_abrupt_en = abrupt_en_per_area * 1000\n",
    "min_en = max(-0.08*1000, min(np.max(scaled_unrlxd_ens), np.min(scaled_rlxd_ens)))\n",
    "max_en = min(max(np.max(scaled_unrlxd_ens), np.max(scaled_rlxd_ens)), scaled_abrupt_en)\n",
    "\n",
    "## Plot the PCA\n",
    "axes[0].scatter(unrlxd_X_reduced[:, 0], unrlxd_X_reduced[:, 1], c=scaled_unrlxd_ens, cmap=\"viridis\", vmin = min_en, vmax = max_en)\n",
    "axes[1].scatter(rlxd_X_reduced[:, 0], rlxd_X_reduced[:, 1], c=scaled_rlxd_ens, cmap=\"viridis\", vmin = min_en, vmax = max_en)\n",
    "\n",
    "## Add the minimum energy structures to the plot\n",
    "for ax in axes:\n",
    "  ax.scatter(abrupt_X_reduced[0, 0], abrupt_X_reduced[0, 1], s=200, edgecolor='red', facecolor='none', linewidth=2, label=\"Abrupt interface\")\n",
    "  ax.scatter(abrupt_X_reduced[0, 0], abrupt_X_reduced[0, 1], c=abrupt_en_per_area, cmap=\"viridis\", vmin = min_en, vmax = max_en)\n",
    "  ax.legend(fontsize=10)\n",
    "  handles, labels = ax.get_legend_handles_labels()\n",
    "  ax.legend(handles[::-1], labels[::-1], facecolor='white', framealpha=1.0, edgecolor='black', fancybox=False, loc='lower right')\n",
    "\n",
    "## Add labels\n",
    "fig.text(0.5, 0.04, 'Principal Component 1', ha='center', fontsize=15)\n",
    "axes[0].set_ylabel('Principal Component 2', fontsize=15)\n",
    "axes[0].set_title('Unrelaxed')\n",
    "axes[1].set_title('Relaxed')\n",
    "if rlxd_string == \"rlxd\":\n",
    "  xlims = [-2, 5.8]\n",
    "  ylims = [-1, 2]\n",
    "else:\n",
    "  xlims = [-42, 55]\n",
    "  ylims = [-12, 30]\n",
    "\n",
    "for ax in axes:\n",
    "  ax.tick_params(axis='both', direction='in')\n",
    "  ax.set_xlim(xlims)\n",
    "  ax.set_ylim(ylims)\n",
    "\n",
    "## Unify tick labels\n",
    "xticks = axes[0].get_xticks()\n",
    "xticks = xticks[(xticks >= xlims[0]) & (xticks <= xlims[1])]\n",
    "\n",
    "axes[1].set_xticks(xticks)\n",
    "axes[1].set_yticklabels([])\n",
    "axes[0].tick_params(axis='x', labelbottom=True, top=True)\n",
    "axes[1].tick_params(axis='x', labelbottom=True, top=True)\n",
    "axes[0].tick_params(axis='y', labelbottom=True, right=True)\n",
    "axes[1].tick_params(axis='y', labelbottom=True, right=True)\n",
    "\n",
    "## Make axes[0] and axes[1] the same width\n",
    "axes[0].set_box_aspect(1.7)\n",
    "axes[1].set_box_aspect(1.7)\n",
    "\n",
    "## Add colorbar next to the axes\n",
    "cbar = fig.colorbar(axes[1].collections[0], ax=axes, orientation='vertical', fraction=0.085, pad=0.02)\n",
    "cbar.set_label('Formation energy (meV/Å$^2$)', fontsize=15)\n",
    "\n",
    "## Save the figure\n",
    "plt.savefig('Si-Ge_RAFFLE'+identifier1+'_pca_'+rlxd_string+'_fit_seed'+str(seed)+'.pdf', bbox_inches='tight', pad_inches=0, facecolor=fig.get_facecolor(), edgecolor='none')"
   ]
  }
 ],
 "metadata": {
  "kernelspec": {
   "display_name": "raffle_env",
   "language": "python",
   "name": "python3"
  },
  "language_info": {
   "codemirror_mode": {
    "name": "ipython",
    "version": 3
   },
   "file_extension": ".py",
   "mimetype": "text/x-python",
   "name": "python",
   "nbconvert_exporter": "python",
   "pygments_lexer": "ipython3",
   "version": "3.12.8"
  }
 },
 "nbformat": 4,
 "nbformat_minor": 2
}
