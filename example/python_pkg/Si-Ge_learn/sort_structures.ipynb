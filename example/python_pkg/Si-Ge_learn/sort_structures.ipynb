{
 "cells": [
  {
   "cell_type": "code",
   "execution_count": null,
   "metadata": {},
   "outputs": [],
   "source": [
    "import matplotlib\n",
    "# %matplotlib inline\n",
    "# print(\"BACKEND: \", matplotlib.get_backend())\n",
    "# if matplotlib.get_backend() != \"macosx\":\n",
    "#   print(\"Changing backend to macosx\")\n",
    "#   matplotlib.use('macosx')\n"
   ]
  },
  {
   "cell_type": "code",
   "execution_count": null,
   "metadata": {},
   "outputs": [],
   "source": [
    "import matplotlib.pyplot as plt\n",
    "%matplotlib inline\n",
    "\n",
    "# matplotlib.use(\"Agg\")\n",
    "\n",
    "from ase.visualize import view\n",
    "\n",
    "from ase import Atoms\n",
    "from ase import build\n",
    "from ase.optimize import FIRE\n",
    "from ase.io import read, write\n",
    "from agox.databases import Database\n",
    "from agox.environments import Environment\n",
    "from agox.utils.graph_sorting import Analysis\n",
    "\n",
    "import numpy as np"
   ]
  },
  {
   "cell_type": "code",
   "execution_count": null,
   "metadata": {},
   "outputs": [],
   "source": [
    "# matplotlib.rcParams.update(matplotlib.rcParamsDefault)\n",
    "plt.rc('text', usetex=True)\n",
    "plt.rc('font', family='cmr10', size=12)\n",
    "plt.rcParams[\"axes.formatter.use_mathtext\"] = True"
   ]
  },
  {
   "cell_type": "code",
   "execution_count": null,
   "metadata": {},
   "outputs": [],
   "source": [
    "from agox.models.descriptors import SOAP, Voronoi\n",
    "local_descriptor = local_descriptor = SOAP.from_species([\"Si\", \"Ge\"], r_cut=5.0)\n",
    "\n",
    "graph_descriptor = Voronoi(\n",
    "    covalent_bond_scale_factor=1.3, n_points=8, angle_from_central_atom=20, environment=None\n",
    ")\n"
   ]
  },
  {
   "cell_type": "code",
   "execution_count": null,
   "metadata": {},
   "outputs": [],
   "source": [
    "from chgnet.model import CHGNetCalculator\n",
    "calc = CHGNetCalculator()"
   ]
  },
  {
   "cell_type": "code",
   "execution_count": null,
   "metadata": {},
   "outputs": [],
   "source": [
    "Si_bulk = build.bulk(\"Si\", crystalstructure=\"diamond\", a=5.43)\n",
    "Si_bulk.calc = calc\n",
    "Si_reference_energy = Si_bulk.get_potential_energy() / len(Si_bulk)\n",
    "Si_cubic = build.make_supercell(Si_bulk, [[-1, 1, 1], [1, -1, 1], [1, 1, -1]])\n",
    "\n",
    "Ge_bulk = build.bulk(\"Ge\", crystalstructure=\"diamond\", a=5.65)\n",
    "Ge_bulk.calc = calc\n",
    "Ge_reference_energy = Ge_bulk.get_potential_energy() / len(Ge_bulk)\n",
    "Ge_cubic = build.make_supercell(Ge_bulk, [[-1, 1, 1], [1, -1, 1], [1, 1, -1]])\n",
    "\n",
    "Si_supercell = build.make_supercell(Si_cubic, [[2, 0, 0], [0, 2, 0], [0, 0, 1]])\n",
    "Ge_supercell = build.make_supercell(Ge_cubic, [[2, 0, 0], [0, 2, 0], [0, 0, 1]])\n",
    "\n",
    "Si_surface = build.surface(Si_supercell, indices=(0, 0, 1), layers=2)\n",
    "Ge_surface = build.surface(Ge_supercell, indices=(0, 0, 1), layers=2)\n",
    "Si_slab = build.surface(Si_supercell, indices=(0, 0, 1), layers=2, vacuum=12, periodic=True)\n",
    "Si_slab.calc = calc\n",
    "Ge_slab = build.surface(Ge_supercell, indices=(0, 0, 1), layers=2, vacuum=12, periodic=True)\n",
    "Ge_slab.calc = calc"
   ]
  },
  {
   "cell_type": "code",
   "execution_count": null,
   "metadata": {},
   "outputs": [],
   "source": [
    "host = build.stack(Si_surface, Ge_surface, axis=2, distance= 5.43/2 + 5.65/2)\n",
    "host.calc = calc\n",
    "perfect_match = build.stack(Si_surface, Ge_surface, axis=2, distance= 2.35) #1.295)# 2.35 somehow = 1.295\n",
    "perfect_match.calc = calc\n",
    "# host is actually 2.5 layers, so can't be made using ASE"
   ]
  },
  {
   "cell_type": "code",
   "execution_count": null,
   "metadata": {},
   "outputs": [],
   "source": [
    "Si_surface_3 = build.surface(Si_supercell, indices=(0, 0, 1), layers=3)\n",
    "Ge_surface_3 = build.surface(Ge_supercell, indices=(0, 0, 1), layers=3)\n",
    "Si_slab_3 = build.surface(Si_supercell, indices=(0, 0, 1), layers=3, vacuum=12, periodic=True)\n",
    "Si_slab_3.calc = calc\n",
    "Ge_slab_3 = build.surface(Ge_supercell, indices=(0, 0, 1), layers=3, vacuum=12, periodic=True)\n",
    "Ge_slab_3.calc = calc\n",
    "perfect_match_3 = build.stack(Si_surface_3, Ge_surface_3, axis=2, distance= 2.35) #1.295)# 2.35 somehow = 1.295\n",
    "perfect_match_3.calc = calc"
   ]
  },
  {
   "cell_type": "code",
   "execution_count": null,
   "metadata": {},
   "outputs": [],
   "source": [
    "print(\"Perfect match height: \", perfect_match.get_cell()[2])\n",
    "print(\"Host height: \", host.get_cell()[2])"
   ]
  },
  {
   "cell_type": "code",
   "execution_count": null,
   "metadata": {},
   "outputs": [],
   "source": [
    "area = np.linalg.norm(np.cross(host.get_cell()[0], host.get_cell()[1]))\n",
    "print(\"Interface area: \", area)"
   ]
  },
  {
   "cell_type": "code",
   "execution_count": null,
   "metadata": {},
   "outputs": [],
   "source": [
    "print(\"Si energy per atom: \", Si_reference_energy)\n",
    "print(\"Ge energy per atom: \", Ge_reference_energy)\n",
    "print(\"Si slab energy: \", Si_slab.get_potential_energy())\n",
    "print(\"Ge slab energy: \", Ge_slab.get_potential_energy())"
   ]
  },
  {
   "cell_type": "code",
   "execution_count": null,
   "metadata": {},
   "outputs": [],
   "source": [
    "Si_slab_vac = read(\"Si_slab.vasp\")\n",
    "Ge_slab_vac = read(\"Ge_slab.vasp\")\n",
    "Si_slab_vac.calc = calc\n",
    "Ge_slab_vac.calc = calc\n",
    "optimizer = FIRE(Si_slab_vac)\n",
    "optimizer.run(fmax=0.05, steps=100)\n",
    "optimizer = FIRE(Ge_slab_vac)\n",
    "optimizer.run(fmax=0.05, steps=100)"
   ]
  },
  {
   "cell_type": "code",
   "execution_count": null,
   "metadata": {},
   "outputs": [],
   "source": [
    "def get_interface_energy(struc, Si_slab, Ge_slab, extra=False):\n",
    "    energy = struc.get_potential_energy()\n",
    "    cell = struc.get_cell()\n",
    "    area = np.linalg.norm(np.cross(cell[0], cell[1]))\n",
    "    Si_energy = Si_slab.get_potential_energy()\n",
    "    Ge_energy = Ge_slab.get_potential_energy()\n",
    "    ## need to subtract remaining silicon and germanium energies also\n",
    "    if extra:\n",
    "        return (energy - Si_energy - Ge_energy - 16*(Si_reference_energy + Ge_reference_energy)) / (2.0 * area)\n",
    "    else:\n",
    "        return (energy - Si_energy - Ge_energy) / (2.0 * area)"
   ]
  },
  {
   "cell_type": "code",
   "execution_count": null,
   "metadata": {},
   "outputs": [],
   "source": [
    "print(\"perfect match 2 layersenergy: \", get_interface_energy(perfect_match, Si_slab, Ge_slab))\n",
    "print(\"perfect match 3 layers energy: \", get_interface_energy(perfect_match_3, Si_slab_3, Ge_slab_3))"
   ]
  },
  {
   "cell_type": "code",
   "execution_count": null,
   "metadata": {},
   "outputs": [],
   "source": [
    "seed = 0\n",
    "identifier = \"2\"\n",
    "# min_energy = -3.6635127# -3.7717605425"
   ]
  },
  {
   "cell_type": "code",
   "execution_count": null,
   "metadata": {},
   "outputs": [],
   "source": [
    "unrlxd_structures = read(\"DTMP\"+identifier+\"/unrlxd_structures_seed\"+str(seed)+\".traj\", index=\":\")\n",
    "for structure in unrlxd_structures:\n",
    "  structure.calc = calc"
   ]
  },
  {
   "cell_type": "code",
   "execution_count": null,
   "metadata": {},
   "outputs": [],
   "source": [
    "rlxd_structures = read(\"DTMP\"+identifier+\"/rlxd_structures_seed\"+str(seed)+\".traj\", index=\":\")\n",
    "for structure in rlxd_structures:\n",
    "  structure.calc = calc\n",
    "# min_energy = np.min([structure.get_potential_energy()/len(structure) for structure in rlxd_structures])"
   ]
  },
  {
   "cell_type": "code",
   "execution_count": null,
   "metadata": {},
   "outputs": [],
   "source": [
    "SiGe_perfect_match = read(\"SiGe_perfect_match.vasp\")\n",
    "SiGe_perfect_match.calc = calc\n",
    "SiGe_perfect_match.set_cell(rlxd_structures[0].get_cell(), scale_atoms=True)\n",
    "optimizer = FIRE(SiGe_perfect_match)\n",
    "optimizer.run(fmax=0.05, steps=100)"
   ]
  },
  {
   "cell_type": "code",
   "execution_count": null,
   "metadata": {},
   "outputs": [],
   "source": [
    "perfect_en_per_area = get_interface_energy(SiGe_perfect_match, Si_slab_vac, Ge_slab_vac, False)\n",
    "print(\"Perfect min energy: \", perfect_en_per_area)"
   ]
  },
  {
   "cell_type": "code",
   "execution_count": null,
   "metadata": {},
   "outputs": [],
   "source": [
    "# Calculate energies per atom for each unique structure\n",
    "unrlxd_en_per_area = [get_interface_energy(structure, Si_slab_vac, Ge_slab_vac, False) for structure in unrlxd_structures]\n",
    "print(\"Unrelaxed min energy: \", np.min(unrlxd_en_per_area))"
   ]
  },
  {
   "cell_type": "code",
   "execution_count": null,
   "metadata": {},
   "outputs": [],
   "source": [
    "rlxd_en_per_area = [get_interface_energy(structure, Si_slab_vac, Ge_slab_vac, False) for structure in rlxd_structures]\n",
    "print(\"Relaxed min energy: \", np.min(rlxd_en_per_area))"
   ]
  },
  {
   "cell_type": "code",
   "execution_count": null,
   "metadata": {},
   "outputs": [],
   "source": [
    "from sklearn.decomposition import PCA"
   ]
  },
  {
   "cell_type": "code",
   "execution_count": null,
   "metadata": {},
   "outputs": [],
   "source": [
    "pca = PCA(n_components=2)"
   ]
  },
  {
   "cell_type": "code",
   "execution_count": null,
   "metadata": {},
   "outputs": [],
   "source": [
    "unrlxd_super_atoms = []\n",
    "for structure in unrlxd_structures:\n",
    "  unrlxd_super_atoms.append( np.mean(local_descriptor.get_features(structure), axis=0) )"
   ]
  },
  {
   "cell_type": "code",
   "execution_count": null,
   "metadata": {},
   "outputs": [],
   "source": [
    "rlxd_super_atoms = []\n",
    "for structure in rlxd_structures:\n",
    "  rlxd_super_atoms.append( np.mean(local_descriptor.get_features(structure), axis=0) )"
   ]
  },
  {
   "cell_type": "code",
   "execution_count": null,
   "metadata": {},
   "outputs": [],
   "source": [
    "rlxd_string = \"rlxd\" # which dataset to fit the PCA model to"
   ]
  },
  {
   "cell_type": "code",
   "execution_count": null,
   "metadata": {},
   "outputs": [],
   "source": [
    "# save pca model\n",
    "import pickle\n",
    "if True:\n",
    "  pca.fit(np.squeeze([arr for arr in rlxd_super_atoms]))\n",
    "  with open(\"pca_model_all_rlxd_\"+str(seed)+\".pkl\", \"wb\") as f:\n",
    "    pickle.dump(pca, f)\n",
    "\n",
    "# load pca model\n",
    "with open(\"pca_model_all_\"+rlxd_string+\"_0.pkl\", \"rb\") as f:\n",
    "  pca = pickle.load(f)"
   ]
  },
  {
   "cell_type": "code",
   "execution_count": null,
   "metadata": {},
   "outputs": [],
   "source": [
    "perf_super_atom = []\n",
    "perf_super_atom.append(np.mean(local_descriptor.get_features(SiGe_perfect_match), axis=0))\n",
    "perf_super_atom.append(np.mean(local_descriptor.get_features(SiGe_perfect_match), axis=0))"
   ]
  },
  {
   "cell_type": "code",
   "execution_count": null,
   "metadata": {},
   "outputs": [],
   "source": [
    "unrlxd_X_reduced = pca.transform(np.squeeze([arr for arr in unrlxd_super_atoms]))\n",
    "rlxd_X_reduced = pca.transform(np.squeeze([arr for arr in rlxd_super_atoms]))\n",
    "perf_X_reduced = pca.transform(np.squeeze([arr for arr in perf_super_atom]))"
   ]
  },
  {
   "cell_type": "code",
   "execution_count": null,
   "metadata": {},
   "outputs": [],
   "source": [
    "min_energy_index = np.argmin(rlxd_en_per_area)\n",
    "print(min_energy_index)"
   ]
  },
  {
   "cell_type": "code",
   "execution_count": null,
   "metadata": {},
   "outputs": [],
   "source": [
    "fig, axes = plt.subplots(nrows=1, ncols=2, figsize=(8, 6))\n",
    "\n",
    "plt.subplots_adjust(wspace=0.05, hspace=0)\n",
    "\n",
    "scaled_unrlxd_ens = [x * 1000 for x in unrlxd_en_per_area]\n",
    "scaled_rlxd_ens = [x * 1000 for x in rlxd_en_per_area]\n",
    "scaled_perf_en = perfect_en_per_area * 1000\n",
    "\n",
    "min_en = max(-0.08*1000, min(np.max(scaled_unrlxd_ens), np.min(scaled_rlxd_ens)))\n",
    "max_en = min(max(np.max(scaled_unrlxd_ens), np.max(scaled_rlxd_ens)), scaled_perf_en)\n",
    "\n",
    "axes[0].scatter(unrlxd_X_reduced[:, 0], unrlxd_X_reduced[:, 1], c=scaled_unrlxd_ens, cmap=\"viridis\", vmin = min_en, vmax = max_en)\n",
    "axes[1].scatter(rlxd_X_reduced[:, 0], rlxd_X_reduced[:, 1], c=scaled_rlxd_ens, cmap=\"viridis\", vmin = min_en, vmax = max_en)\n",
    "for ax in axes:\n",
    "  # ax.scatter(rlxd_X_reduced[min_energy_index, 0], rlxd_X_reduced[min_energy_index, 1], s=200, edgecolor='red', facecolor='none', linewidth=2)\n",
    "  ax.scatter(perf_X_reduced[0, 0], perf_X_reduced[0, 1], s=200, edgecolor='red', facecolor='none', linewidth=2)\n",
    "  axes[0].scatter(perf_X_reduced[0, 0], perf_X_reduced[0, 1], c=perfect_en_per_area, cmap=\"viridis\", vmin = min_en, vmax = max_en)\n",
    "  axes[1].scatter(perf_X_reduced[0, 0], perf_X_reduced[0, 1], c=perfect_en_per_area, cmap=\"viridis\", vmin = min_en, vmax = max_en)\n",
    "  \n",
    "\n",
    "fig.text(0.5, 0.04, 'Principal Component 1', ha='center', fontsize=15)\n",
    "axes[0].set_ylabel('Principal Component 2', fontsize=15)\n",
    "axes[0].set_title('Unrelaxed')\n",
    "axes[1].set_title('Relaxed')\n",
    "if rlxd_string == \"rlxd\":\n",
    "  xlims = [-2, 5.8]\n",
    "  ylims = [-1, 2]\n",
    "else:\n",
    "  xlims = [-42, 55]\n",
    "  ylims = [-12, 30]\n",
    "\n",
    "for ax in axes:\n",
    "  ax.tick_params(axis='both', direction='in')\n",
    "  ax.set_xlim(xlims)\n",
    "  ax.set_ylim(ylims)\n",
    "\n",
    "# unify tick labels\n",
    "xticks = axes[0].get_xticks()\n",
    "xticks = xticks[(xticks >= xlims[0]) & (xticks <= xlims[1])]\n",
    "\n",
    "axes[1].set_xticks(xticks)\n",
    "axes[1].set_yticklabels([])\n",
    "axes[0].tick_params(axis='x', labelbottom=True, top=True)\n",
    "axes[1].tick_params(axis='x', labelbottom=True, top=True)\n",
    "axes[0].tick_params(axis='y', labelbottom=True, right=True)\n",
    "axes[1].tick_params(axis='y', labelbottom=True, right=True)\n",
    "\n",
    "# Make axes[0] and axes[1] the same width\n",
    "axes[0].set_box_aspect(1.7)\n",
    "axes[1].set_box_aspect(1.7)\n",
    "\n",
    "# Add colorbar next to the axes\n",
    "cbar = fig.colorbar(axes[1].collections[0], ax=axes, orientation='vertical', fraction=0.085, pad=0.02)\n",
    "cbar.set_label('Formation energy (meV/Å$^2$)', fontsize=15)\n",
    "\n",
    "plt.savefig('Si-Ge_RAFFLE'+identifier+'_pca_'+rlxd_string+'_fit_seed'+str(seed)+'.pdf', bbox_inches='tight', pad_inches=0, facecolor=fig.get_facecolor(), edgecolor='none')"
   ]
  },
  {
   "cell_type": "code",
   "execution_count": null,
   "metadata": {},
   "outputs": [],
   "source": []
  }
 ],
 "metadata": {
  "kernelspec": {
   "display_name": "raffle_env",
   "language": "python",
   "name": "python3"
  },
  "language_info": {
   "codemirror_mode": {
    "name": "ipython",
    "version": 3
   },
   "file_extension": ".py",
   "mimetype": "text/x-python",
   "name": "python",
   "nbconvert_exporter": "python",
   "pygments_lexer": "ipython3",
   "version": "3.12.8"
  }
 },
 "nbformat": 4,
 "nbformat_minor": 2
}
