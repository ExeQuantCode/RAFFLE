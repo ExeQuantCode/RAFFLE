{
 "cells": [
  {
   "cell_type": "code",
   "execution_count": null,
   "id": "2010c09a",
   "metadata": {},
   "outputs": [],
   "source": [
    "# Iterative RAFFLE structure search\n",
    "from ase.io import read\n",
    "from ase import Atoms\n",
    "from raffle.generator import raffle_generator\n",
    "from mace.calculators import mace_mp\n",
    "import matplotlib.pyplot as plt\n",
    "import numpy as np"
   ]
  },
  {
   "cell_type": "code",
   "execution_count": null,
   "id": "ac87b758",
   "metadata": {},
   "outputs": [],
   "source": [
    "generator = raffle_generator()\n",
    "generator.distributions.set_history_len(10)\n",
    "calc = mace_mp(model=\"medium\", dispersion=False, default_dtype=\"float32\", device='cpu')"
   ]
  },
  {
   "cell_type": "code",
   "execution_count": null,
   "id": "fb5834ef",
   "metadata": {},
   "outputs": [],
   "source": [
    "host = Atoms('C', positions=[(0, 0, 0)], cell=[10, 10, 10], pbc=True)\n",
    "host.calc = calc\n",
    "generator.set_host(host)"
   ]
  },
  {
   "cell_type": "code",
   "execution_count": null,
   "id": "b9c4c302",
   "metadata": {},
   "outputs": [],
   "source": [
    "aa_stack = read(\"POSCAR_AA_stack\")\n",
    "ab_stack = read(\"POSCAR_AB_stack\")\n",
    "aabbcc_stack = read(\"POSCAR_AABBCC_stack\")\n",
    "aba_stack = read(\"POSCAR_ABA_stack\")\n",
    "abab_stack = read(\"POSCAR_ABAB_stack\")\n",
    "lonsdaleite = read(\"POSCAR_lonsdaleite\")\n",
    "diamond = read(\"POSCAR_diamond\")\n",
    "\n",
    "# 0 = Unknown mp entry\n",
    "# 1 = mp-169 = 0.001 OR mp-3347313 = 0.000\n",
    "# 2 = mp-2516584 = 0.002\n",
    "# 3 = mp-606949 = 0.006\n",
    "# 4 = mp-569416 = 0.002\n",
    "# 5 = mp-47 = 0.139\n",
    "# 6 = mp-66 = 0.112"
   ]
  },
  {
   "cell_type": "code",
   "execution_count": null,
   "id": "5a5d183b",
   "metadata": {},
   "outputs": [],
   "source": [
    "aa_stack.calc = calc\n",
    "ab_stack.calc = calc\n",
    "aabbcc_stack.calc = calc\n",
    "aba_stack.calc = calc\n",
    "abab_stack.calc = calc\n",
    "lonsdaleite.calc = calc\n",
    "diamond.calc = calc"
   ]
  },
  {
   "cell_type": "code",
   "execution_count": null,
   "id": "d7fe5192",
   "metadata": {},
   "outputs": [],
   "source": [
    "generator.distributions.set_element_energies(\n",
    "    {\n",
    "        \"C\": ab_stack.get_potential_energy() / len(ab_stack),\n",
    "    }\n",
    ")"
   ]
  },
  {
   "cell_type": "code",
   "execution_count": null,
   "id": "139ae70d",
   "metadata": {},
   "outputs": [],
   "source": [
    "database = [\n",
    "    aa_stack,\n",
    "    ab_stack,\n",
    "    aabbcc_stack,\n",
    "    aba_stack,\n",
    "    abab_stack,\n",
    "    lonsdaleite,\n",
    "    diamond,\n",
    "]"
   ]
  },
  {
   "cell_type": "code",
   "execution_count": null,
   "id": "3e711155",
   "metadata": {},
   "outputs": [],
   "source": [
    "### Optional parameters\n",
    "generator.distributions.set_kBT(0.2)\n",
    "# generator.distributions.set_width([0.02, np.pi/200.0, np.pi/200.0])\n",
    "# generator.distributions.set_cutoff_min([0.5, 0.0, 0.0])\n",
    "# generator.distributions.set_cutoff_max([6.0, np.pi, np.pi])\n"
   ]
  },
  {
   "cell_type": "code",
   "execution_count": null,
   "id": "ff7ef8c2",
   "metadata": {},
   "outputs": [],
   "source": [
    "### Explore the effect of excluding 3- and 4-body terms\n",
    "# generator.distributions.set_radius_distance_tol([0.0, 0.0, 0.0, 0.0])\n",
    "# generator.distributions.set_radius_distance_tol([1.5, 2.5, 0.0, 0.0])\n",
    "# generator.distributions.set_radius_distance_tol([1.5, 2.5, 3.0, 6.0])"
   ]
  },
  {
   "cell_type": "code",
   "execution_count": null,
   "id": "2677f485",
   "metadata": {},
   "outputs": [],
   "source": [
    "generator.distributions.create(database)"
   ]
  },
  {
   "cell_type": "code",
   "execution_count": null,
   "id": "7579711c",
   "metadata": {},
   "outputs": [],
   "source": [
    "descriptor = generator.get_descriptor()"
   ]
  },
  {
   "cell_type": "code",
   "execution_count": null,
   "id": "7bf54a55",
   "metadata": {},
   "outputs": [],
   "source": [
    "# Create a figure with 3 subplots side by side\n",
    "fig, axes = plt.subplots(1, 3, figsize=(18, 5))\n",
    "\n",
    "# Plot for each n-body descriptor (2-body, 3-body, 4-body)\n",
    "for j in range(3):\n",
    "    # Calculate x-axis values\n",
    "    x = np.arange(generator.distributions.cutoff_min[j],\n",
    "                generator.distributions.cutoff_max[j] + generator.distributions.width[j],\n",
    "                generator.distributions.width[j])\n",
    "\n",
    "    # Plot on the respective subplot\n",
    "    for idx in range(len(descriptor[j])):\n",
    "        axes[j].plot(x, descriptor[j][idx,:])\n",
    "\n",
    "    # Set labels and title for each subplot\n",
    "    axes[j].set_ylabel('Descriptor value')\n",
    "    axes[j].set_title(f'{j+2}-body descriptor')\n",
    "\n",
    "axes[0].set_xlabel('Distance (Å)')\n",
    "axes[1].set_xlabel('3-body angle (radians)')\n",
    "axes[2].set_xlabel('Improper dihedral angle (radians)')\n",
    "plt.tight_layout()\n",
    "plt.show()"
   ]
  },
  {
   "cell_type": "code",
   "execution_count": null,
   "id": "2a2542d9",
   "metadata": {},
   "outputs": [],
   "source": [
    "for i, structure in enumerate(database):\n",
    "    print(\"energy\", structure.get_potential_energy()/len(structure) - ab_stack.get_potential_energy()/len(ab_stack))\n",
    "    print(\"viability\", generator.evaluate(structure))\n",
    "    print()"
   ]
  },
  {
   "cell_type": "code",
   "execution_count": null,
   "id": "bef343d8",
   "metadata": {},
   "outputs": [],
   "source": []
  }
 ],
 "metadata": {
  "kernelspec": {
   "display_name": "raffle_env",
   "language": "python",
   "name": "python3"
  },
  "language_info": {
   "codemirror_mode": {
    "name": "ipython",
    "version": 3
   },
   "file_extension": ".py",
   "mimetype": "text/x-python",
   "name": "python",
   "nbconvert_exporter": "python",
   "pygments_lexer": "ipython3",
   "version": "3.12.8"
  }
 },
 "nbformat": 4,
 "nbformat_minor": 5
}
