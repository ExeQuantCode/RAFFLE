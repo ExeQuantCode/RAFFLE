{
 "cells": [
  {
   "cell_type": "code",
   "execution_count": null,
   "id": "2010c09a",
   "metadata": {},
   "outputs": [],
   "source": [
    "# Iterative RAFFLE structure search\n",
    "from ase.io import read\n",
    "from raffle.generator import raffle_generator\n",
    "from mace.calculators import mace_mp\n",
    "import matplotlib.pyplot as plt\n",
    "import numpy as np"
   ]
  },
  {
   "cell_type": "code",
   "execution_count": null,
   "id": "ac87b758",
   "metadata": {},
   "outputs": [],
   "source": [
    "generator = raffle_generator()\n",
    "calc = mace_mp(model=\"medium\", dispersion=False, default_dtype=\"float32\", device='cpu')"
   ]
  },
  {
   "cell_type": "code",
   "execution_count": null,
   "id": "b9c4c302",
   "metadata": {},
   "outputs": [],
   "source": [
    "aa_stack = read(\"POSCAR_AA_stack\")\n",
    "ab_stack = read(\"POSCAR_AB_stack\")\n",
    "aabbcc_stack = read(\"POSCAR_AABBCC_stack\")\n",
    "aba_stack = read(\"POSCAR_ABA_stack\")\n",
    "lonsdaleite = read(\"POSCAR_lonsdaleite\")"
   ]
  },
  {
   "cell_type": "code",
   "execution_count": null,
   "id": "5a5d183b",
   "metadata": {},
   "outputs": [],
   "source": [
    "aa_stack.calc = calc\n",
    "ab_stack.calc = calc\n",
    "aabbcc_stack.calc = calc\n",
    "aba_stack.calc = calc\n",
    "lonsdaleite.calc = calc"
   ]
  },
  {
   "cell_type": "code",
   "execution_count": null,
   "id": "40882bbe",
   "metadata": {},
   "outputs": [],
   "source": [
    "# change aa_stack to same height as ab_stack\n",
    "# this is to confirm that the differences in descriptor are not a result of different interlayer distances\n",
    "ab_height = ab_stack.get_cell()[2, 2]\n",
    "cell = aa_stack.get_cell()\n",
    "aa_height = cell[2, 2]\n",
    "cell[2, 2] = ab_height\n",
    "aa_stack.set_cell(cell, scale_atoms=True)\n",
    "aa_stack.calc = calc"
   ]
  },
  {
   "cell_type": "code",
   "execution_count": null,
   "id": "2677f485",
   "metadata": {},
   "outputs": [],
   "source": [
    "aa_descriptor = generator.distributions.generate_fingerprint(aa_stack)\n",
    "ab_descriptor = generator.distributions.generate_fingerprint(ab_stack)\n",
    "aba_descriptor = generator.distributions.generate_fingerprint(aba_stack)\n",
    "aabbcc_descriptor = generator.distributions.generate_fingerprint(aabbcc_stack)\n",
    "lonsdaleite_descriptor = generator.distributions.generate_fingerprint(lonsdaleite)"
   ]
  },
  {
   "cell_type": "code",
   "execution_count": null,
   "id": "7bf54a55",
   "metadata": {},
   "outputs": [],
   "source": [
    "\n",
    "\n",
    "fig, axes = plt.subplots(1, 3, figsize=(18, 5))\n",
    "\n",
    "# Plot for each n-body function (2-body, 3-body, 4-body)\n",
    "for j in range(3):\n",
    "    # Calculate x-axis values\n",
    "    x = np.arange(generator.distributions.cutoff_min[j],\n",
    "                generator.distributions.cutoff_max[j] + generator.distributions.width[j],\n",
    "                generator.distributions.width[j])\n",
    "\n",
    "    # Plot on the respective subplot\n",
    "    axes[j].plot(x, aa_descriptor[j], label='AA stack')\n",
    "    axes[j].plot(x, ab_descriptor[j], label='AB stack')\n",
    "    axes[j].plot(x, aba_descriptor[j], label='ABA stack')\n",
    "    axes[j].plot(x, aabbcc_descriptor[j], label='AABBCC stack')\n",
    "    axes[j].plot(x, lonsdaleite_descriptor[j], label='Lonsdaleite')\n",
    "\n",
    "    # Set labels and title for each subplot\n",
    "    axes[j].set_ylabel('Fingerprint value')\n",
    "    axes[j].set_title(f'{j+2}-body fingerprint')\n",
    "    axes[j].legend()\n",
    "\n",
    "axes[0].set_xlabel('Distance (Å)')\n",
    "axes[1].set_xlabel('3-body angle (radians)')\n",
    "axes[2].set_xlabel('Improper dihedral angle (radians)')\n",
    "plt.tight_layout()\n",
    "plt.show()"
   ]
  },
  {
   "cell_type": "code",
   "execution_count": null,
   "id": "7a215eb5",
   "metadata": {},
   "outputs": [],
   "source": []
  }
 ],
 "metadata": {
  "kernelspec": {
   "display_name": "raffle_env",
   "language": "python",
   "name": "python3"
  },
  "language_info": {
   "codemirror_mode": {
    "name": "ipython",
    "version": 3
   },
   "file_extension": ".py",
   "mimetype": "text/x-python",
   "name": "python",
   "nbconvert_exporter": "python",
   "pygments_lexer": "ipython3",
   "version": "3.12.8"
  }
 },
 "nbformat": 4,
 "nbformat_minor": 5
}
