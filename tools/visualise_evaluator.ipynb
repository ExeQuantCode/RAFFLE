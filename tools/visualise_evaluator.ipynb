{
 "cells": [
  {
   "cell_type": "code",
   "execution_count": 1,
   "metadata": {},
   "outputs": [],
   "source": [
    "import numpy as np\n",
    "import pyvista as pv\n",
    "\n",
    "# import panel as pn\n",
    "\n",
    "# # Activate panel extension for pyvista support\n",
    "# pn.extension('vtk')\n",
    "pv.set_jupyter_backend('client')\n",
    "\n"
   ]
  },
  {
   "cell_type": "code",
   "execution_count": 2,
   "metadata": {},
   "outputs": [],
   "source": [
    "# Read the data from the file\n",
    "data = []\n",
    "atoms = []\n",
    "with open('test_evaluator.dat', 'r') as file:\n",
    "    for line in file:\n",
    "        values = line.strip().split()\n",
    "        if len(values) == 3:\n",
    "            atoms.append([float(values[0]), float(values[1]), float(values[2])])\n",
    "\n",
    "        if len(values) == 4:\n",
    "            data.append([float(values[0]), float(values[1]), float(values[2]), float(values[3])])"
   ]
  },
  {
   "cell_type": "code",
   "execution_count": 3,
   "metadata": {},
   "outputs": [
    {
     "name": "stdout",
     "output_type": "stream",
     "text": [
      "[[0.         0.         0.16666667]\n",
      " [0.         0.         0.19444445]\n",
      " [0.         0.         0.22222222]\n",
      " ...\n",
      " [0.94444442 0.94444442 0.77777779]\n",
      " [0.94444442 0.94444442 0.80555558]\n",
      " [0.94444442 0.94444442 0.83333331]]\n",
      "[0.         0.         0.         ... 0.00812109 0.00804858 0.00718295]\n"
     ]
    }
   ],
   "source": [
    "points = np.array(data)[:, :3]\n",
    "viability = np.array(data)[:, 3]\n",
    "print(points)\n",
    "print(viability)"
   ]
  },
  {
   "cell_type": "code",
   "execution_count": 4,
   "metadata": {},
   "outputs": [
    {
     "name": "stdout",
     "output_type": "stream",
     "text": [
      "[[[0.         0.         0.         ... 0.         0.         0.        ]\n",
      "  [0.         0.         0.         ... 0.         0.         0.        ]\n",
      "  [0.         0.         0.         ... 0.         0.         0.        ]\n",
      "  ...\n",
      "  [0.         0.         0.         ... 0.         0.         0.        ]\n",
      "  [0.         0.         0.         ... 0.         0.         0.        ]\n",
      "  [0.         0.         0.         ... 0.         0.         0.        ]]\n",
      "\n",
      " [[0.05616802 0.05616802 0.05616802 ... 0.05616802 0.05616802 0.05616802]\n",
      "  [0.05616802 0.05616802 0.05616802 ... 0.05616802 0.05616802 0.05616802]\n",
      "  [0.05616802 0.05616802 0.05616802 ... 0.05616802 0.05616802 0.05616802]\n",
      "  ...\n",
      "  [0.05616802 0.05616802 0.05616802 ... 0.05616802 0.05616802 0.05616802]\n",
      "  [0.05616802 0.05616802 0.05616802 ... 0.05616802 0.05616802 0.05616802]\n",
      "  [0.05616802 0.05616802 0.05616802 ... 0.05616802 0.05616802 0.05616802]]\n",
      "\n",
      " [[0.11233604 0.11233604 0.11233604 ... 0.11233604 0.11233604 0.11233604]\n",
      "  [0.11233604 0.11233604 0.11233604 ... 0.11233604 0.11233604 0.11233604]\n",
      "  [0.11233604 0.11233604 0.11233604 ... 0.11233604 0.11233604 0.11233604]\n",
      "  ...\n",
      "  [0.11233604 0.11233604 0.11233604 ... 0.11233604 0.11233604 0.11233604]\n",
      "  [0.11233604 0.11233604 0.11233604 ... 0.11233604 0.11233604 0.11233604]\n",
      "  [0.11233604 0.11233604 0.11233604 ... 0.11233604 0.11233604 0.11233604]]\n",
      "\n",
      " ...\n",
      "\n",
      " [[0.84252029 0.84252029 0.84252029 ... 0.84252029 0.84252029 0.84252029]\n",
      "  [0.84252029 0.84252029 0.84252029 ... 0.84252029 0.84252029 0.84252029]\n",
      "  [0.84252029 0.84252029 0.84252029 ... 0.84252029 0.84252029 0.84252029]\n",
      "  ...\n",
      "  [0.84252029 0.84252029 0.84252029 ... 0.84252029 0.84252029 0.84252029]\n",
      "  [0.84252029 0.84252029 0.84252029 ... 0.84252029 0.84252029 0.84252029]\n",
      "  [0.84252029 0.84252029 0.84252029 ... 0.84252029 0.84252029 0.84252029]]\n",
      "\n",
      " [[0.89868831 0.89868831 0.89868831 ... 0.89868831 0.89868831 0.89868831]\n",
      "  [0.89868831 0.89868831 0.89868831 ... 0.89868831 0.89868831 0.89868831]\n",
      "  [0.89868831 0.89868831 0.89868831 ... 0.89868831 0.89868831 0.89868831]\n",
      "  ...\n",
      "  [0.89868831 0.89868831 0.89868831 ... 0.89868831 0.89868831 0.89868831]\n",
      "  [0.89868831 0.89868831 0.89868831 ... 0.89868831 0.89868831 0.89868831]\n",
      "  [0.89868831 0.89868831 0.89868831 ... 0.89868831 0.89868831 0.89868831]]\n",
      "\n",
      " [[0.95485633 0.95485633 0.95485633 ... 0.95485633 0.95485633 0.95485633]\n",
      "  [0.95485633 0.95485633 0.95485633 ... 0.95485633 0.95485633 0.95485633]\n",
      "  [0.95485633 0.95485633 0.95485633 ... 0.95485633 0.95485633 0.95485633]\n",
      "  ...\n",
      "  [0.95485633 0.95485633 0.95485633 ... 0.95485633 0.95485633 0.95485633]\n",
      "  [0.95485633 0.95485633 0.95485633 ... 0.95485633 0.95485633 0.95485633]\n",
      "  [0.95485633 0.95485633 0.95485633 ... 0.95485633 0.95485633 0.95485633]]]\n"
     ]
    }
   ],
   "source": [
    "\n",
    "# Create a regular grid (adjust the ranges and resolution as needed)\n",
    "grid_x, grid_y, grid_z = np.mgrid[0:1:0.2/3.560745109, 0:1:0.2/3.560745109, 0:1:0.2/7.121490218]  # Regular 3D grid\n",
    "# grid_x, grid_y, grid_z = np.mgrid[0:18:1, 0:18:1, 0:36:1]  # Regular 3D grid\n",
    "print(grid_x)"
   ]
  },
  {
   "cell_type": "code",
   "execution_count": 5,
   "metadata": {},
   "outputs": [
    {
     "name": "stdout",
     "output_type": "stream",
     "text": [
      "[[ 0  0  6]\n",
      " [ 0  0  7]\n",
      " [ 0  0  8]\n",
      " ...\n",
      " [17 17 28]\n",
      " [17 17 29]\n",
      " [17 17 30]]\n"
     ]
    }
   ],
   "source": [
    "# Convert known points to grid indices (round to nearest grid point)\n",
    "grid_indices = np.rint(points / [0.2/3.560745109, 0.2/3.560745109, 0.2/7.121490218]).astype(int)  # Scale points to match grid resolution\n",
    "print(grid_indices)"
   ]
  },
  {
   "cell_type": "code",
   "execution_count": 6,
   "metadata": {},
   "outputs": [],
   "source": [
    "# Create an empty viability grid initialized to 0 (same shape as grid_x, grid_y, grid_z)\n",
    "grid_viability = np.zeros_like(grid_x)\n",
    "\n",
    "# Fill in the viability values at the known grid points\n",
    "for i, idx in enumerate(grid_indices):\n",
    "    # print(idx)\n",
    "    # print(grid_viability[idx[0], idx[1], idx[2]], viability[i])\n",
    "    grid_viability[idx[0], idx[1], idx[2]] = viability[i] * 100\n",
    "    # print(grid_viability[idx[0], idx[1], idx[2]])\n",
    "\n",
    "# Now you have a grid with 0s where there are no data points and values where you have data\n",
    "\n",
    "# Create a pyvista StructuredGrid from the regular grid\n",
    "structured_grid = pv.StructuredGrid(grid_x, grid_y, grid_z)\n",
    "\n",
    "# Add the viability data to the grid\n",
    "structured_grid['viability'] = grid_viability.flatten(order=\"F\")  # Flatten the array!\n"
   ]
  },
  {
   "cell_type": "code",
   "execution_count": 7,
   "metadata": {},
   "outputs": [
    {
     "data": {
      "application/vnd.jupyter.widget-view+json": {
       "model_id": "41e48cf3ec65407b991ce3b32562cdbd",
       "version_major": 2,
       "version_minor": 0
      },
      "text/plain": [
       "Widget(value='<iframe src=\"http://localhost:53985/index.html?ui=P_0x308f38c10_0&reconnect=auto\" class=\"pyvista…"
      ]
     },
     "metadata": {},
     "output_type": "display_data"
    }
   ],
   "source": [
    "structured_grid.plot(show_edges=False, scalars='viability', cmap='coolwarm', show_scalar_bar=True)"
   ]
  },
  {
   "cell_type": "code",
   "execution_count": 8,
   "metadata": {},
   "outputs": [
    {
     "data": {
      "application/vnd.jupyter.widget-view+json": {
       "model_id": "1cd45b12a52349d0aeb08ab355c2be6e",
       "version_major": 2,
       "version_minor": 0
      },
      "text/plain": [
       "Widget(value='<iframe src=\"http://localhost:53985/index.html?ui=P_0x3091b0610_1&reconnect=auto\" class=\"pyvista…"
      ]
     },
     "metadata": {},
     "output_type": "display_data"
    }
   ],
   "source": [
    "# Generate the isosurface (e.g., where viability = 10.0)\n",
    "contours = structured_grid.contour(isosurfaces=[0.01])\n",
    "\n",
    "# Plot the isosurface\n",
    "plotter = pv.Plotter()\n",
    "plotter.add_mesh(contours, color='white')\n",
    "plotter.show(jupyter_backend='trame')"
   ]
  },
  {
   "cell_type": "code",
   "execution_count": 9,
   "metadata": {},
   "outputs": [],
   "source": [
    "\n",
    "# # Plotter object for interactive rendering\n",
    "# plotter = pv.Plotter(notebook=True)\n",
    "\n",
    "# # Callback for the slider\n",
    "# def update_isosurface(value):\n",
    "#     plotter.clear()\n",
    "#     contours = structured_grid.contour(isosurfaces=[value])\n",
    "#     plotter.add_mesh(contours, color='white')\n",
    "#     plotter.render()\n",
    "\n",
    "# # Add initial isosurface\n",
    "# initial_value = 0.01\n",
    "# contours = structured_grid.contour(isosurfaces=[initial_value])\n",
    "# plotter.add_mesh(contours, color='red')\n",
    "\n",
    "# # Panel slider widget for interactivity\n",
    "# slider = pn.widgets.FloatSlider(name='Isosurface Level', start=0, end=np.max(viability), value=initial_value)\n",
    "\n",
    "# # Link the slider with the callback function\n",
    "# slider.param.watch(lambda event: update_isosurface(event.new), 'value')\n",
    "\n",
    "# # Show plot and slider in a panel layout\n",
    "# layout = pn.Column(slider, plotter.show(jupyter_backend='panel'))\n",
    "\n",
    "# layout.show()"
   ]
  },
  {
   "cell_type": "code",
   "execution_count": 78,
   "metadata": {},
   "outputs": [],
   "source": [
    "pl = pv.Plotter(off_screen=True)\n",
    "# Create the point cloud as a `pv.PolyData` object\n",
    "point_cloud = pv.PolyData(points)\n",
    "\n",
    "# Add scalars for coloring the points based on their viability\n",
    "point_cloud[\"viability\"] = viability ** (1/3) * 10\n",
    "\n",
    "# Use glyphs to represent each point as a small sphere\n",
    "glyphs = point_cloud.glyph(scale=True, geom=pv.Sphere(radius=0.01))  # Adjust radius as needed\n",
    "\n",
    "# Add the glyphs to the plotter\n",
    "pl.set_scale(zscale=2)\n",
    "pl.add_mesh(\n",
    "    # glyphs,\n",
    "    points,\n",
    "    scalars = viability ** (1/3) * 10,\n",
    "    render_points_as_spheres=True,\n",
    "    # scalars=\"viability\",\n",
    "    show_scalar_bar=True,\n",
    "    color=True,\n",
    "    # opacity = [0.1, 0.2, 0.9],\n",
    "    point_size=30.0,\n",
    "    # opacity=0.8,  # You can try different opacity values\n",
    ");\n",
    "# contour = structured_grid.contour(isosurfaces=[0.01])\n",
    "# pl.add_mesh(\n",
    "#     points,\n",
    "#     scalars=viability*100,\n",
    "#     render_points_as_spheres=True,\n",
    "#     style='points_gaussian',\n",
    "#     show_scalar_bar=True,\n",
    "#     # emissive=True,\n",
    "#     # opacity=0.25,\n",
    "#     point_size=1.0,\n",
    "#     ambient=0.7,\n",
    "#     color=True,\n",
    "#     opacity = 1.0,#[0.05, 0.2, 0.9],\n",
    "#     # use_transparency=True,\n",
    "#     emissive=False,\n",
    "# );"
   ]
  },
  {
   "cell_type": "code",
   "execution_count": 79,
   "metadata": {},
   "outputs": [
    {
     "data": {
      "application/vnd.jupyter.widget-view+json": {
       "model_id": "3e943ec39a8b409d97f03351b0e98338",
       "version_major": 2,
       "version_minor": 0
      },
      "text/plain": [
       "Widget(value='<iframe src=\"http://localhost:53985/index.html?ui=P_0x337c48b50_35&reconnect=auto\" class=\"pyvist…"
      ]
     },
     "metadata": {},
     "output_type": "display_data"
    },
    {
     "ename": "",
     "evalue": "",
     "output_type": "error",
     "traceback": [
      "\u001b[1;31mThe Kernel crashed while executing code in the current cell or a previous cell. \n",
      "\u001b[1;31mPlease review the code in the cell(s) to identify a possible cause of the failure. \n",
      "\u001b[1;31mClick <a href='https://aka.ms/vscodeJupyterKernelCrash'>here</a> for more info. \n",
      "\u001b[1;31mView Jupyter <a href='command:jupyter.viewOutput'>log</a> for further details."
     ]
    }
   ],
   "source": [
    "\n",
    "# pl.background_color = 'k'\n",
    "pl.show(auto_close=False)"
   ]
  },
  {
   "cell_type": "code",
   "execution_count": null,
   "metadata": {},
   "outputs": [],
   "source": []
  }
 ],
 "metadata": {
  "kernelspec": {
   "display_name": "chgnet_env",
   "language": "python",
   "name": "python3"
  },
  "language_info": {
   "codemirror_mode": {
    "name": "ipython",
    "version": 3
   },
   "file_extension": ".py",
   "mimetype": "text/x-python",
   "name": "python",
   "nbconvert_exporter": "python",
   "pygments_lexer": "ipython3",
   "version": "3.11.8"
  }
 },
 "nbformat": 4,
 "nbformat_minor": 2
}
